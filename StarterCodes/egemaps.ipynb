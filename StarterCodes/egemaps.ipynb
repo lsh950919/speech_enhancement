{
 "cells": [
  {
   "cell_type": "code",
   "execution_count": 2,
   "metadata": {},
   "outputs": [],
   "source": [
    "import opensmile\n",
    "from glob import glob\n",
    "from tqdm import tqdm\n",
    "import pandas as pd"
   ]
  },
  {
   "cell_type": "markdown",
   "metadata": {},
   "source": [
    "# eGeMAPS\n",
    "Function below takes two arguments:\n",
    "1. <b>audio_files_path</b>: path to directory of audio files\n",
    "2. <b>level</b>: which feature level to use (f for Functionals, l for LowLevelDescriptors)\n",
    "\n",
    "Output: DataFrame with audio file path as index and 88 features"
   ]
  },
  {
   "cell_type": "code",
   "execution_count": 3,
   "metadata": {},
   "outputs": [],
   "source": [
    "def egemaps(audio_files_path, level):\n",
    "    if level == 'f':\n",
    "        smile = opensmile.Smile(\n",
    "            feature_set=opensmile.FeatureSet.eGeMAPSv02,\n",
    "            feature_level=opensmile.FeatureLevel.Functionals,\n",
    "        )\n",
    "    elif level == 'l':\n",
    "        smile = opensmile.Smile(\n",
    "            feature_set=opensmile.FeatureSet.eGeMAPSv02,\n",
    "            feature_level=opensmile.FeatureLevel.LowLevelDescriptors,\n",
    "        )\n",
    "    \n",
    "    if not audio_files_path.endswith('/*'):\n",
    "        audio_files_path += '/*'\n",
    "    files = glob(audio_files_path)\n",
    "    \n",
    "    result = smile.process_files(files)\n",
    "\n",
    "    return result"
   ]
  },
  {
   "cell_type": "code",
   "execution_count": 4,
   "metadata": {},
   "outputs": [],
   "source": [
    "clean_dir = '/Users/brianlim/Desktop/files/cmu/intro_to_dl/project/enhanced/clean/*'\n",
    "noisy_dir = '/Users/brianlim/Desktop/files/cmu/intro_to_dl/project/enhanced/noisy/*'\n",
    "demucs_dir = '/Users/brianlim/Desktop/files/cmu/intro_to_dl/project/enhanced/Demucs_denoised/*'\n",
    "fullsub_dir = '/Users/brianlim/Desktop/files/cmu/intro_to_dl/project/enhanced/enhanced_FullSubNet/*'"
   ]
  },
  {
   "cell_type": "code",
   "execution_count": 5,
   "metadata": {},
   "outputs": [],
   "source": [
    "clean_f = egemaps(clean_dir, 'f')\n",
    "clean_l = egemaps(clean_dir, 'l')\n",
    "noisy_f = egemaps(noisy_dir, 'f')\n",
    "noisy_l = egemaps(noisy_dir, 'l')\n",
    "demucs_f = egemaps(demucs_dir, 'f')\n",
    "demucs_l = egemaps(demucs_dir, 'l')\n",
    "fullsub_f = egemaps(fullsub_dir, 'f')\n",
    "fullsub_l = egemaps(fullsub_dir, 'l')"
   ]
  },
  {
   "cell_type": "code",
   "execution_count": 6,
   "metadata": {},
   "outputs": [],
   "source": [
    "import numpy as np"
   ]
  },
  {
   "cell_type": "code",
   "execution_count": 7,
   "metadata": {},
   "outputs": [],
   "source": [
    "noisy_mae = np.mean(np.abs(noisy_l.to_numpy() - clean_l.to_numpy()), axis = 0)\n",
    "demucs_mae = np.mean(np.abs(demucs_l.to_numpy() - clean_l.to_numpy()), axis = 0)\n",
    "fullsub_mae = np.mean(np.abs(fullsub_l.to_numpy() - clean_l.to_numpy()), axis = 0)"
   ]
  },
  {
   "cell_type": "code",
   "execution_count": 10,
   "metadata": {},
   "outputs": [
    {
     "data": {
      "text/plain": [
       "Index(['Loudness_sma3', 'alphaRatio_sma3', 'hammarbergIndex_sma3',\n",
       "       'slope0-500_sma3', 'slope500-1500_sma3', 'spectralFlux_sma3',\n",
       "       'mfcc1_sma3', 'mfcc2_sma3', 'mfcc3_sma3', 'mfcc4_sma3',\n",
       "       'F0semitoneFrom27.5Hz_sma3nz', 'jitterLocal_sma3nz',\n",
       "       'shimmerLocaldB_sma3nz', 'HNRdBACF_sma3nz', 'logRelF0-H1-H2_sma3nz',\n",
       "       'logRelF0-H1-A3_sma3nz', 'F1frequency_sma3nz', 'F1bandwidth_sma3nz',\n",
       "       'F1amplitudeLogRelF0_sma3nz', 'F2frequency_sma3nz',\n",
       "       'F2bandwidth_sma3nz', 'F2amplitudeLogRelF0_sma3nz',\n",
       "       'F3frequency_sma3nz', 'F3bandwidth_sma3nz',\n",
       "       'F3amplitudeLogRelF0_sma3nz'],\n",
       "      dtype='object')"
      ]
     },
     "execution_count": 10,
     "metadata": {},
     "output_type": "execute_result"
    }
   ],
   "source": [
    "noisy_l.columns"
   ]
  },
  {
   "cell_type": "code",
   "execution_count": 17,
   "metadata": {},
   "outputs": [
    {
     "data": {
      "text/html": [
       "<div>\n",
       "<style scoped>\n",
       "    .dataframe tbody tr th:only-of-type {\n",
       "        vertical-align: middle;\n",
       "    }\n",
       "\n",
       "    .dataframe tbody tr th {\n",
       "        vertical-align: top;\n",
       "    }\n",
       "\n",
       "    .dataframe thead th {\n",
       "        text-align: right;\n",
       "    }\n",
       "</style>\n",
       "<table border=\"1\" class=\"dataframe\">\n",
       "  <thead>\n",
       "    <tr style=\"text-align: right;\">\n",
       "      <th></th>\n",
       "      <th>Loudness_sma3</th>\n",
       "      <th>alphaRatio_sma3</th>\n",
       "      <th>hammarbergIndex_sma3</th>\n",
       "      <th>slope0-500_sma3</th>\n",
       "      <th>slope500-1500_sma3</th>\n",
       "      <th>spectralFlux_sma3</th>\n",
       "      <th>mfcc1_sma3</th>\n",
       "      <th>mfcc2_sma3</th>\n",
       "      <th>mfcc3_sma3</th>\n",
       "      <th>mfcc4_sma3</th>\n",
       "      <th>...</th>\n",
       "      <th>logRelF0-H1-A3_sma3nz</th>\n",
       "      <th>F1frequency_sma3nz</th>\n",
       "      <th>F1bandwidth_sma3nz</th>\n",
       "      <th>F1amplitudeLogRelF0_sma3nz</th>\n",
       "      <th>F2frequency_sma3nz</th>\n",
       "      <th>F2bandwidth_sma3nz</th>\n",
       "      <th>F2amplitudeLogRelF0_sma3nz</th>\n",
       "      <th>F3frequency_sma3nz</th>\n",
       "      <th>F3bandwidth_sma3nz</th>\n",
       "      <th>F3amplitudeLogRelF0_sma3nz</th>\n",
       "    </tr>\n",
       "  </thead>\n",
       "  <tbody>\n",
       "    <tr>\n",
       "      <th>0</th>\n",
       "      <td>0.483268</td>\n",
       "      <td>11.299494</td>\n",
       "      <td>13.573524</td>\n",
       "      <td>0.044102</td>\n",
       "      <td>0.024144</td>\n",
       "      <td>0.248254</td>\n",
       "      <td>19.869884</td>\n",
       "      <td>15.397346</td>\n",
       "      <td>17.760813</td>\n",
       "      <td>16.964304</td>\n",
       "      <td>...</td>\n",
       "      <td>14.445569</td>\n",
       "      <td>276.088806</td>\n",
       "      <td>315.461853</td>\n",
       "      <td>97.806877</td>\n",
       "      <td>340.632751</td>\n",
       "      <td>354.107605</td>\n",
       "      <td>92.074165</td>\n",
       "      <td>410.379883</td>\n",
       "      <td>355.498779</td>\n",
       "      <td>89.307373</td>\n",
       "    </tr>\n",
       "  </tbody>\n",
       "</table>\n",
       "<p>1 rows × 25 columns</p>\n",
       "</div>"
      ],
      "text/plain": [
       "   Loudness_sma3  alphaRatio_sma3  hammarbergIndex_sma3  slope0-500_sma3  \\\n",
       "0       0.483268        11.299494             13.573524         0.044102   \n",
       "\n",
       "   slope500-1500_sma3  spectralFlux_sma3  mfcc1_sma3  mfcc2_sma3  mfcc3_sma3  \\\n",
       "0            0.024144           0.248254   19.869884   15.397346   17.760813   \n",
       "\n",
       "   mfcc4_sma3  ...  logRelF0-H1-A3_sma3nz  F1frequency_sma3nz  \\\n",
       "0   16.964304  ...              14.445569          276.088806   \n",
       "\n",
       "   F1bandwidth_sma3nz  F1amplitudeLogRelF0_sma3nz  F2frequency_sma3nz  \\\n",
       "0          315.461853                   97.806877          340.632751   \n",
       "\n",
       "   F2bandwidth_sma3nz  F2amplitudeLogRelF0_sma3nz  F3frequency_sma3nz  \\\n",
       "0          354.107605                   92.074165          410.379883   \n",
       "\n",
       "   F3bandwidth_sma3nz  F3amplitudeLogRelF0_sma3nz  \n",
       "0          355.498779                   89.307373  \n",
       "\n",
       "[1 rows x 25 columns]"
      ]
     },
     "execution_count": 17,
     "metadata": {},
     "output_type": "execute_result"
    }
   ],
   "source": [
    "noisy_df = pd.DataFrame(columns = noisy_l.columns)\n",
    "noisy_df.loc[0] = noisy_mae\n",
    "noisy_df"
   ]
  },
  {
   "cell_type": "code",
   "execution_count": 19,
   "metadata": {},
   "outputs": [
    {
     "data": {
      "text/html": [
       "<div>\n",
       "<style scoped>\n",
       "    .dataframe tbody tr th:only-of-type {\n",
       "        vertical-align: middle;\n",
       "    }\n",
       "\n",
       "    .dataframe tbody tr th {\n",
       "        vertical-align: top;\n",
       "    }\n",
       "\n",
       "    .dataframe thead th {\n",
       "        text-align: right;\n",
       "    }\n",
       "</style>\n",
       "<table border=\"1\" class=\"dataframe\">\n",
       "  <thead>\n",
       "    <tr style=\"text-align: right;\">\n",
       "      <th></th>\n",
       "      <th>Loudness_sma3</th>\n",
       "      <th>alphaRatio_sma3</th>\n",
       "      <th>hammarbergIndex_sma3</th>\n",
       "      <th>slope0-500_sma3</th>\n",
       "      <th>slope500-1500_sma3</th>\n",
       "      <th>spectralFlux_sma3</th>\n",
       "      <th>mfcc1_sma3</th>\n",
       "      <th>mfcc2_sma3</th>\n",
       "      <th>mfcc3_sma3</th>\n",
       "      <th>mfcc4_sma3</th>\n",
       "      <th>...</th>\n",
       "      <th>logRelF0-H1-A3_sma3nz</th>\n",
       "      <th>F1frequency_sma3nz</th>\n",
       "      <th>F1bandwidth_sma3nz</th>\n",
       "      <th>F1amplitudeLogRelF0_sma3nz</th>\n",
       "      <th>F2frequency_sma3nz</th>\n",
       "      <th>F2bandwidth_sma3nz</th>\n",
       "      <th>F2amplitudeLogRelF0_sma3nz</th>\n",
       "      <th>F3frequency_sma3nz</th>\n",
       "      <th>F3bandwidth_sma3nz</th>\n",
       "      <th>F3amplitudeLogRelF0_sma3nz</th>\n",
       "    </tr>\n",
       "  </thead>\n",
       "  <tbody>\n",
       "    <tr>\n",
       "      <th>0</th>\n",
       "      <td>0.451802</td>\n",
       "      <td>13.397175</td>\n",
       "      <td>15.754402</td>\n",
       "      <td>0.037105</td>\n",
       "      <td>0.027894</td>\n",
       "      <td>0.225197</td>\n",
       "      <td>23.306728</td>\n",
       "      <td>15.919687</td>\n",
       "      <td>18.526052</td>\n",
       "      <td>17.316565</td>\n",
       "      <td>...</td>\n",
       "      <td>16.163132</td>\n",
       "      <td>271.990021</td>\n",
       "      <td>339.750549</td>\n",
       "      <td>98.77388</td>\n",
       "      <td>351.564423</td>\n",
       "      <td>367.649048</td>\n",
       "      <td>92.307083</td>\n",
       "      <td>432.367188</td>\n",
       "      <td>365.303772</td>\n",
       "      <td>89.258408</td>\n",
       "    </tr>\n",
       "  </tbody>\n",
       "</table>\n",
       "<p>1 rows × 25 columns</p>\n",
       "</div>"
      ],
      "text/plain": [
       "   Loudness_sma3  alphaRatio_sma3  hammarbergIndex_sma3  slope0-500_sma3  \\\n",
       "0       0.451802        13.397175             15.754402         0.037105   \n",
       "\n",
       "   slope500-1500_sma3  spectralFlux_sma3  mfcc1_sma3  mfcc2_sma3  mfcc3_sma3  \\\n",
       "0            0.027894           0.225197   23.306728   15.919687   18.526052   \n",
       "\n",
       "   mfcc4_sma3  ...  logRelF0-H1-A3_sma3nz  F1frequency_sma3nz  \\\n",
       "0   17.316565  ...              16.163132          271.990021   \n",
       "\n",
       "   F1bandwidth_sma3nz  F1amplitudeLogRelF0_sma3nz  F2frequency_sma3nz  \\\n",
       "0          339.750549                    98.77388          351.564423   \n",
       "\n",
       "   F2bandwidth_sma3nz  F2amplitudeLogRelF0_sma3nz  F3frequency_sma3nz  \\\n",
       "0          367.649048                   92.307083          432.367188   \n",
       "\n",
       "   F3bandwidth_sma3nz  F3amplitudeLogRelF0_sma3nz  \n",
       "0          365.303772                   89.258408  \n",
       "\n",
       "[1 rows x 25 columns]"
      ]
     },
     "execution_count": 19,
     "metadata": {},
     "output_type": "execute_result"
    }
   ],
   "source": [
    "demucs_df = pd.DataFrame(columns = demucs_l.columns)\n",
    "demucs_df.loc[0] = demucs_mae\n",
    "demucs_df"
   ]
  },
  {
   "cell_type": "code",
   "execution_count": 18,
   "metadata": {},
   "outputs": [
    {
     "data": {
      "text/html": [
       "<div>\n",
       "<style scoped>\n",
       "    .dataframe tbody tr th:only-of-type {\n",
       "        vertical-align: middle;\n",
       "    }\n",
       "\n",
       "    .dataframe tbody tr th {\n",
       "        vertical-align: top;\n",
       "    }\n",
       "\n",
       "    .dataframe thead th {\n",
       "        text-align: right;\n",
       "    }\n",
       "</style>\n",
       "<table border=\"1\" class=\"dataframe\">\n",
       "  <thead>\n",
       "    <tr style=\"text-align: right;\">\n",
       "      <th></th>\n",
       "      <th>Loudness_sma3</th>\n",
       "      <th>alphaRatio_sma3</th>\n",
       "      <th>hammarbergIndex_sma3</th>\n",
       "      <th>slope0-500_sma3</th>\n",
       "      <th>slope500-1500_sma3</th>\n",
       "      <th>spectralFlux_sma3</th>\n",
       "      <th>mfcc1_sma3</th>\n",
       "      <th>mfcc2_sma3</th>\n",
       "      <th>mfcc3_sma3</th>\n",
       "      <th>mfcc4_sma3</th>\n",
       "      <th>...</th>\n",
       "      <th>logRelF0-H1-A3_sma3nz</th>\n",
       "      <th>F1frequency_sma3nz</th>\n",
       "      <th>F1bandwidth_sma3nz</th>\n",
       "      <th>F1amplitudeLogRelF0_sma3nz</th>\n",
       "      <th>F2frequency_sma3nz</th>\n",
       "      <th>F2bandwidth_sma3nz</th>\n",
       "      <th>F2amplitudeLogRelF0_sma3nz</th>\n",
       "      <th>F3frequency_sma3nz</th>\n",
       "      <th>F3bandwidth_sma3nz</th>\n",
       "      <th>F3amplitudeLogRelF0_sma3nz</th>\n",
       "    </tr>\n",
       "  </thead>\n",
       "  <tbody>\n",
       "    <tr>\n",
       "      <th>0</th>\n",
       "      <td>0.515414</td>\n",
       "      <td>13.180624</td>\n",
       "      <td>15.35399</td>\n",
       "      <td>0.041533</td>\n",
       "      <td>0.027047</td>\n",
       "      <td>0.278125</td>\n",
       "      <td>22.608416</td>\n",
       "      <td>16.576773</td>\n",
       "      <td>19.458452</td>\n",
       "      <td>18.911354</td>\n",
       "      <td>...</td>\n",
       "      <td>15.836701</td>\n",
       "      <td>272.488159</td>\n",
       "      <td>329.300385</td>\n",
       "      <td>98.726952</td>\n",
       "      <td>343.16861</td>\n",
       "      <td>360.406494</td>\n",
       "      <td>92.257927</td>\n",
       "      <td>418.655273</td>\n",
       "      <td>362.131165</td>\n",
       "      <td>89.2855</td>\n",
       "    </tr>\n",
       "  </tbody>\n",
       "</table>\n",
       "<p>1 rows × 25 columns</p>\n",
       "</div>"
      ],
      "text/plain": [
       "   Loudness_sma3  alphaRatio_sma3  hammarbergIndex_sma3  slope0-500_sma3  \\\n",
       "0       0.515414        13.180624              15.35399         0.041533   \n",
       "\n",
       "   slope500-1500_sma3  spectralFlux_sma3  mfcc1_sma3  mfcc2_sma3  mfcc3_sma3  \\\n",
       "0            0.027047           0.278125   22.608416   16.576773   19.458452   \n",
       "\n",
       "   mfcc4_sma3  ...  logRelF0-H1-A3_sma3nz  F1frequency_sma3nz  \\\n",
       "0   18.911354  ...              15.836701          272.488159   \n",
       "\n",
       "   F1bandwidth_sma3nz  F1amplitudeLogRelF0_sma3nz  F2frequency_sma3nz  \\\n",
       "0          329.300385                   98.726952           343.16861   \n",
       "\n",
       "   F2bandwidth_sma3nz  F2amplitudeLogRelF0_sma3nz  F3frequency_sma3nz  \\\n",
       "0          360.406494                   92.257927          418.655273   \n",
       "\n",
       "   F3bandwidth_sma3nz  F3amplitudeLogRelF0_sma3nz  \n",
       "0          362.131165                     89.2855  \n",
       "\n",
       "[1 rows x 25 columns]"
      ]
     },
     "execution_count": 18,
     "metadata": {},
     "output_type": "execute_result"
    }
   ],
   "source": [
    "fullsub_df = pd.DataFrame(columns = fullsub_l.columns)\n",
    "fullsub_df.loc[0] = fullsub_mae\n",
    "fullsub_df"
   ]
  },
  {
   "cell_type": "code",
   "execution_count": null,
   "metadata": {},
   "outputs": [],
   "source": []
  }
 ],
 "metadata": {
  "kernelspec": {
   "display_name": "Python 3.8.13 ('speech3.8')",
   "language": "python",
   "name": "python3"
  },
  "language_info": {
   "codemirror_mode": {
    "name": "ipython",
    "version": 3
   },
   "file_extension": ".py",
   "mimetype": "text/x-python",
   "name": "python",
   "nbconvert_exporter": "python",
   "pygments_lexer": "ipython3",
   "version": "3.8.13"
  },
  "orig_nbformat": 4,
  "vscode": {
   "interpreter": {
    "hash": "5d66f5896ea7cc6254b5050c408f9d468ce643d314073296c40a39e4bd677853"
   }
  }
 },
 "nbformat": 4,
 "nbformat_minor": 2
}
