{
 "cells": [
  {
   "cell_type": "code",
   "execution_count": 1,
   "metadata": {},
   "outputs": [],
   "source": [
    "import opensmile\n",
    "from glob import glob\n",
    "from tqdm import tqdm\n",
    "import pandas as pd"
   ]
  },
  {
   "cell_type": "markdown",
   "metadata": {},
   "source": [
    "# eGeMAPS\n",
    "Function below takes two arguments:\n",
    "1. <b>audio_files_path</b>: path to directory of audio files\n",
    "2. <b>level</b>: which feature level to use (f for Functionals, l for LowLevelDescriptors)\n",
    "\n",
    "Output: DataFrame with audio file path as index and 88 features"
   ]
  },
  {
   "cell_type": "code",
   "execution_count": 2,
   "metadata": {},
   "outputs": [],
   "source": [
    "def egemaps(audio_files_path, level):\n",
    "    if level == 'f':\n",
    "        smile = opensmile.Smile(\n",
    "            feature_set=opensmile.FeatureSet.eGeMAPSv02,\n",
    "            feature_level=opensmile.FeatureLevel.Functionals,\n",
    "        )\n",
    "    elif level == 'l':\n",
    "        smile = opensmile.Smile(\n",
    "            feature_set=opensmile.FeatureSet.eGeMAPSv02,\n",
    "            feature_level=opensmile.FeatureLevel.LowLevelDescriptors,\n",
    "        )\n",
    "    \n",
    "    # if not audio_files_path.endswith('/*'):\n",
    "    #     audio_files_path += '/*'\n",
    "    # files = glob(audio_files_path)\n",
    "    \n",
    "    result = smile.process_files(audio_files_path)\n",
    "\n",
    "    return result"
   ]
  },
  {
   "cell_type": "code",
   "execution_count": 3,
   "metadata": {},
   "outputs": [],
   "source": [
    "import os\n",
    "DATA_DIR = \"/home/ubuntu/efs/IntroDL/denoiser/dataset\"\n",
    "CLEAN_DIR = os.path.join(DATA_DIR, \"starter_clean/clean\")\n",
    "NOISY_DIR = os.path.join(DATA_DIR, \"starter_noisy/noisy\")\n",
    "RESULT_DIR = \"/home/ubuntu/efs/IntroDL/denoiser/results\"\n",
    "DEMUCS_DIR = os.path.join(RESULT_DIR, \"Demucs_denoised\")\n",
    "FULLSUBNET_DIR = os.path.join(RESULT_DIR, \"FullSubNet_denoised\")\n",
    "\n",
    "clean_files = sorted(glob(CLEAN_DIR + \"/*\"))\n",
    "noisy_files = sorted(glob(NOISY_DIR + \"/*\"))\n",
    "\n",
    "clean_dict = {os.path.basename(name).split('_')[-1]:name for name in clean_files}\n",
    "noisy_dict = {os.path.basename(name).split('_')[-1]:name for name in noisy_files}\n",
    "\n",
    "clean_files = []\n",
    "noisy_files = []\n",
    "for fileid in clean_dict.keys() : \n",
    "    clean_files.append(clean_dict[fileid])\n",
    "    noisy_files.append(noisy_dict[fileid])\n",
    "\n",
    "demucs_enhanced_files = sorted(glob(DEMUCS_DIR + \"/*\"))\n",
    "demucs_enhanced_dict = {os.path.basename(name).split('_')[-1]:name for name in demucs_enhanced_files}\n",
    "fullsubnet_enhanced_files = sorted(glob(FULLSUBNET_DIR + \"/*\"))\n",
    "fullsubnet_enhanced_dict = {os.path.basename(name).split('_')[-1]:name for name in fullsubnet_enhanced_files}\n",
    "\n",
    "demucs_enhanced_files = []\n",
    "fullsubnet_enhanced_files = []\n",
    "for fileid in clean_dict.keys() : \n",
    "    demucs_enhanced_files.append(demucs_enhanced_dict[fileid])\n",
    "    fullsubnet_enhanced_files.append(fullsubnet_enhanced_dict[fileid])\n",
    "\n"
   ]
  },
  {
   "cell_type": "code",
   "execution_count": 4,
   "metadata": {},
   "outputs": [],
   "source": [
    "clean_f = egemaps(clean_files, 'f')\n",
    "clean_l = egemaps(clean_files, 'l')\n",
    "noisy_f = egemaps(noisy_files, 'f')\n",
    "noisy_l = egemaps(noisy_files, 'l')\n",
    "demucs_f = egemaps(demucs_enhanced_files, 'f')\n",
    "demucs_l = egemaps(demucs_enhanced_files, 'l')\n",
    "fullsub_f = egemaps(fullsubnet_enhanced_files, 'f')\n",
    "fullsub_l = egemaps(fullsubnet_enhanced_files, 'l')"
   ]
  },
  {
   "cell_type": "code",
   "execution_count": 5,
   "metadata": {},
   "outputs": [],
   "source": [
    "import numpy as np"
   ]
  },
  {
   "cell_type": "code",
   "execution_count": 6,
   "metadata": {},
   "outputs": [],
   "source": [
    "noisy_mae = np.mean(np.abs(noisy_l.to_numpy() - clean_l.to_numpy()), axis = 0)\n",
    "demucs_mae = np.mean(np.abs(demucs_l.to_numpy() - clean_l.to_numpy()), axis = 0)\n",
    "fullsubnet_mae = np.mean(np.abs(fullsub_l.to_numpy() - clean_l.to_numpy()), axis = 0)"
   ]
  },
  {
   "cell_type": "code",
   "execution_count": 7,
   "metadata": {},
   "outputs": [],
   "source": [
    "Improve = lambda error_enhanced, error_noisy : (error_noisy - error_enhanced) / error_noisy\n",
    "Imp_demucs = Improve(demucs_mae, noisy_mae)\n",
    "Imp_fullsubnet = Improve(fullsubnet_mae, noisy_mae)"
   ]
  },
  {
   "cell_type": "code",
   "execution_count": 8,
   "metadata": {},
   "outputs": [
    {
     "data": {
      "text/plain": [
       "Index(['Loudness_sma3', 'alphaRatio_sma3', 'hammarbergIndex_sma3',\n",
       "       'slope0-500_sma3', 'slope500-1500_sma3', 'spectralFlux_sma3',\n",
       "       'mfcc1_sma3', 'mfcc2_sma3', 'mfcc3_sma3', 'mfcc4_sma3',\n",
       "       'F0semitoneFrom27.5Hz_sma3nz', 'jitterLocal_sma3nz',\n",
       "       'shimmerLocaldB_sma3nz', 'HNRdBACF_sma3nz', 'logRelF0-H1-H2_sma3nz',\n",
       "       'logRelF0-H1-A3_sma3nz', 'F1frequency_sma3nz', 'F1bandwidth_sma3nz',\n",
       "       'F1amplitudeLogRelF0_sma3nz', 'F2frequency_sma3nz',\n",
       "       'F2bandwidth_sma3nz', 'F2amplitudeLogRelF0_sma3nz',\n",
       "       'F3frequency_sma3nz', 'F3bandwidth_sma3nz',\n",
       "       'F3amplitudeLogRelF0_sma3nz'],\n",
       "      dtype='object')"
      ]
     },
     "execution_count": 8,
     "metadata": {},
     "output_type": "execute_result"
    }
   ],
   "source": [
    "noisy_l.columns"
   ]
  },
  {
   "cell_type": "code",
   "execution_count": 9,
   "metadata": {},
   "outputs": [],
   "source": [
    "MAE_df = pd.DataFrame(index = noisy_l.columns)\n",
    "Improve_df = pd.DataFrame(index = noisy_l.columns)"
   ]
  },
  {
   "cell_type": "code",
   "execution_count": 10,
   "metadata": {},
   "outputs": [],
   "source": [
    "MAE_df[\"noisy\"] = noisy_mae\n",
    "MAE_df[\"demucs_enhanced\"] = demucs_mae\n",
    "MAE_df[\"fullsubnet_enhanced\"] = fullsubnet_mae\n",
    "\n",
    "Improve_df[\"demucs_enhanced\"] = Imp_demucs\n",
    "Improve_df[\"fullsubnet_enhanced\"] = Imp_fullsubnet"
   ]
  },
  {
   "cell_type": "code",
   "execution_count": 11,
   "metadata": {},
   "outputs": [
    {
     "data": {
      "text/html": [
       "<div>\n",
       "<style scoped>\n",
       "    .dataframe tbody tr th:only-of-type {\n",
       "        vertical-align: middle;\n",
       "    }\n",
       "\n",
       "    .dataframe tbody tr th {\n",
       "        vertical-align: top;\n",
       "    }\n",
       "\n",
       "    .dataframe thead th {\n",
       "        text-align: right;\n",
       "    }\n",
       "</style>\n",
       "<table border=\"1\" class=\"dataframe\">\n",
       "  <thead>\n",
       "    <tr style=\"text-align: right;\">\n",
       "      <th></th>\n",
       "      <th>noisy</th>\n",
       "      <th>demucs_enhanced</th>\n",
       "      <th>fullsubnet_enhanced</th>\n",
       "    </tr>\n",
       "  </thead>\n",
       "  <tbody>\n",
       "    <tr>\n",
       "      <th>Loudness_sma3</th>\n",
       "      <td>0.170484</td>\n",
       "      <td>0.036405</td>\n",
       "      <td>0.201656</td>\n",
       "    </tr>\n",
       "    <tr>\n",
       "      <th>alphaRatio_sma3</th>\n",
       "      <td>5.849057</td>\n",
       "      <td>3.091248</td>\n",
       "      <td>3.377025</td>\n",
       "    </tr>\n",
       "    <tr>\n",
       "      <th>hammarbergIndex_sma3</th>\n",
       "      <td>7.115644</td>\n",
       "      <td>4.116732</td>\n",
       "      <td>4.262281</td>\n",
       "    </tr>\n",
       "    <tr>\n",
       "      <th>slope0-500_sma3</th>\n",
       "      <td>0.031842</td>\n",
       "      <td>0.016648</td>\n",
       "      <td>0.020932</td>\n",
       "    </tr>\n",
       "    <tr>\n",
       "      <th>slope500-1500_sma3</th>\n",
       "      <td>0.011632</td>\n",
       "      <td>0.007806</td>\n",
       "      <td>0.009824</td>\n",
       "    </tr>\n",
       "    <tr>\n",
       "      <th>spectralFlux_sma3</th>\n",
       "      <td>0.080228</td>\n",
       "      <td>0.012163</td>\n",
       "      <td>0.131750</td>\n",
       "    </tr>\n",
       "    <tr>\n",
       "      <th>mfcc1_sma3</th>\n",
       "      <td>8.656893</td>\n",
       "      <td>4.552648</td>\n",
       "      <td>4.815643</td>\n",
       "    </tr>\n",
       "    <tr>\n",
       "      <th>mfcc2_sma3</th>\n",
       "      <td>7.910419</td>\n",
       "      <td>4.753930</td>\n",
       "      <td>4.991512</td>\n",
       "    </tr>\n",
       "    <tr>\n",
       "      <th>mfcc3_sma3</th>\n",
       "      <td>8.024676</td>\n",
       "      <td>4.967277</td>\n",
       "      <td>5.867540</td>\n",
       "    </tr>\n",
       "    <tr>\n",
       "      <th>mfcc4_sma3</th>\n",
       "      <td>7.785574</td>\n",
       "      <td>5.171243</td>\n",
       "      <td>5.575912</td>\n",
       "    </tr>\n",
       "    <tr>\n",
       "      <th>F0semitoneFrom27.5Hz_sma3nz</th>\n",
       "      <td>5.338793</td>\n",
       "      <td>1.348116</td>\n",
       "      <td>1.298347</td>\n",
       "    </tr>\n",
       "    <tr>\n",
       "      <th>jitterLocal_sma3nz</th>\n",
       "      <td>0.007664</td>\n",
       "      <td>0.004471</td>\n",
       "      <td>0.004738</td>\n",
       "    </tr>\n",
       "    <tr>\n",
       "      <th>shimmerLocaldB_sma3nz</th>\n",
       "      <td>0.361878</td>\n",
       "      <td>0.221989</td>\n",
       "      <td>0.229647</td>\n",
       "    </tr>\n",
       "    <tr>\n",
       "      <th>HNRdBACF_sma3nz</th>\n",
       "      <td>1.486764</td>\n",
       "      <td>0.293083</td>\n",
       "      <td>0.335126</td>\n",
       "    </tr>\n",
       "    <tr>\n",
       "      <th>logRelF0-H1-H2_sma3nz</th>\n",
       "      <td>1.701444</td>\n",
       "      <td>0.762462</td>\n",
       "      <td>0.890343</td>\n",
       "    </tr>\n",
       "    <tr>\n",
       "      <th>logRelF0-H1-A3_sma3nz</th>\n",
       "      <td>4.681416</td>\n",
       "      <td>2.394727</td>\n",
       "      <td>2.258814</td>\n",
       "    </tr>\n",
       "    <tr>\n",
       "      <th>F1frequency_sma3nz</th>\n",
       "      <td>195.270035</td>\n",
       "      <td>153.469971</td>\n",
       "      <td>156.976532</td>\n",
       "    </tr>\n",
       "    <tr>\n",
       "      <th>F1bandwidth_sma3nz</th>\n",
       "      <td>239.084625</td>\n",
       "      <td>217.488403</td>\n",
       "      <td>218.462036</td>\n",
       "    </tr>\n",
       "    <tr>\n",
       "      <th>F1amplitudeLogRelF0_sma3nz</th>\n",
       "      <td>30.585194</td>\n",
       "      <td>8.673664</td>\n",
       "      <td>9.155216</td>\n",
       "    </tr>\n",
       "    <tr>\n",
       "      <th>F2frequency_sma3nz</th>\n",
       "      <td>248.880371</td>\n",
       "      <td>210.393280</td>\n",
       "      <td>214.276520</td>\n",
       "    </tr>\n",
       "    <tr>\n",
       "      <th>F2bandwidth_sma3nz</th>\n",
       "      <td>260.082458</td>\n",
       "      <td>235.392395</td>\n",
       "      <td>231.179810</td>\n",
       "    </tr>\n",
       "    <tr>\n",
       "      <th>F2amplitudeLogRelF0_sma3nz</th>\n",
       "      <td>28.525322</td>\n",
       "      <td>7.892022</td>\n",
       "      <td>8.206285</td>\n",
       "    </tr>\n",
       "    <tr>\n",
       "      <th>F3frequency_sma3nz</th>\n",
       "      <td>313.863190</td>\n",
       "      <td>269.192810</td>\n",
       "      <td>279.609070</td>\n",
       "    </tr>\n",
       "    <tr>\n",
       "      <th>F3bandwidth_sma3nz</th>\n",
       "      <td>269.233398</td>\n",
       "      <td>253.383728</td>\n",
       "      <td>243.063324</td>\n",
       "    </tr>\n",
       "    <tr>\n",
       "      <th>F3amplitudeLogRelF0_sma3nz</th>\n",
       "      <td>28.118513</td>\n",
       "      <td>8.019201</td>\n",
       "      <td>8.128979</td>\n",
       "    </tr>\n",
       "  </tbody>\n",
       "</table>\n",
       "</div>"
      ],
      "text/plain": [
       "                                  noisy  demucs_enhanced  fullsubnet_enhanced\n",
       "Loudness_sma3                  0.170484         0.036405             0.201656\n",
       "alphaRatio_sma3                5.849057         3.091248             3.377025\n",
       "hammarbergIndex_sma3           7.115644         4.116732             4.262281\n",
       "slope0-500_sma3                0.031842         0.016648             0.020932\n",
       "slope500-1500_sma3             0.011632         0.007806             0.009824\n",
       "spectralFlux_sma3              0.080228         0.012163             0.131750\n",
       "mfcc1_sma3                     8.656893         4.552648             4.815643\n",
       "mfcc2_sma3                     7.910419         4.753930             4.991512\n",
       "mfcc3_sma3                     8.024676         4.967277             5.867540\n",
       "mfcc4_sma3                     7.785574         5.171243             5.575912\n",
       "F0semitoneFrom27.5Hz_sma3nz    5.338793         1.348116             1.298347\n",
       "jitterLocal_sma3nz             0.007664         0.004471             0.004738\n",
       "shimmerLocaldB_sma3nz          0.361878         0.221989             0.229647\n",
       "HNRdBACF_sma3nz                1.486764         0.293083             0.335126\n",
       "logRelF0-H1-H2_sma3nz          1.701444         0.762462             0.890343\n",
       "logRelF0-H1-A3_sma3nz          4.681416         2.394727             2.258814\n",
       "F1frequency_sma3nz           195.270035       153.469971           156.976532\n",
       "F1bandwidth_sma3nz           239.084625       217.488403           218.462036\n",
       "F1amplitudeLogRelF0_sma3nz    30.585194         8.673664             9.155216\n",
       "F2frequency_sma3nz           248.880371       210.393280           214.276520\n",
       "F2bandwidth_sma3nz           260.082458       235.392395           231.179810\n",
       "F2amplitudeLogRelF0_sma3nz    28.525322         7.892022             8.206285\n",
       "F3frequency_sma3nz           313.863190       269.192810           279.609070\n",
       "F3bandwidth_sma3nz           269.233398       253.383728           243.063324\n",
       "F3amplitudeLogRelF0_sma3nz    28.118513         8.019201             8.128979"
      ]
     },
     "execution_count": 11,
     "metadata": {},
     "output_type": "execute_result"
    }
   ],
   "source": [
    "MAE_df"
   ]
  },
  {
   "cell_type": "code",
   "execution_count": 12,
   "metadata": {},
   "outputs": [
    {
     "data": {
      "text/html": [
       "<div>\n",
       "<style scoped>\n",
       "    .dataframe tbody tr th:only-of-type {\n",
       "        vertical-align: middle;\n",
       "    }\n",
       "\n",
       "    .dataframe tbody tr th {\n",
       "        vertical-align: top;\n",
       "    }\n",
       "\n",
       "    .dataframe thead th {\n",
       "        text-align: right;\n",
       "    }\n",
       "</style>\n",
       "<table border=\"1\" class=\"dataframe\">\n",
       "  <thead>\n",
       "    <tr style=\"text-align: right;\">\n",
       "      <th></th>\n",
       "      <th>demucs_enhanced</th>\n",
       "      <th>fullsubnet_enhanced</th>\n",
       "    </tr>\n",
       "  </thead>\n",
       "  <tbody>\n",
       "    <tr>\n",
       "      <th>Loudness_sma3</th>\n",
       "      <td>0.786459</td>\n",
       "      <td>-0.182841</td>\n",
       "    </tr>\n",
       "    <tr>\n",
       "      <th>alphaRatio_sma3</th>\n",
       "      <td>0.471496</td>\n",
       "      <td>0.422638</td>\n",
       "    </tr>\n",
       "    <tr>\n",
       "      <th>hammarbergIndex_sma3</th>\n",
       "      <td>0.421453</td>\n",
       "      <td>0.400999</td>\n",
       "    </tr>\n",
       "    <tr>\n",
       "      <th>slope0-500_sma3</th>\n",
       "      <td>0.477165</td>\n",
       "      <td>0.342616</td>\n",
       "    </tr>\n",
       "    <tr>\n",
       "      <th>slope500-1500_sma3</th>\n",
       "      <td>0.328931</td>\n",
       "      <td>0.155407</td>\n",
       "    </tr>\n",
       "    <tr>\n",
       "      <th>spectralFlux_sma3</th>\n",
       "      <td>0.848398</td>\n",
       "      <td>-0.642204</td>\n",
       "    </tr>\n",
       "    <tr>\n",
       "      <th>mfcc1_sma3</th>\n",
       "      <td>0.474101</td>\n",
       "      <td>0.443722</td>\n",
       "    </tr>\n",
       "    <tr>\n",
       "      <th>mfcc2_sma3</th>\n",
       "      <td>0.399029</td>\n",
       "      <td>0.368995</td>\n",
       "    </tr>\n",
       "    <tr>\n",
       "      <th>mfcc3_sma3</th>\n",
       "      <td>0.381000</td>\n",
       "      <td>0.268813</td>\n",
       "    </tr>\n",
       "    <tr>\n",
       "      <th>mfcc4_sma3</th>\n",
       "      <td>0.335792</td>\n",
       "      <td>0.283815</td>\n",
       "    </tr>\n",
       "    <tr>\n",
       "      <th>F0semitoneFrom27.5Hz_sma3nz</th>\n",
       "      <td>0.747487</td>\n",
       "      <td>0.756809</td>\n",
       "    </tr>\n",
       "    <tr>\n",
       "      <th>jitterLocal_sma3nz</th>\n",
       "      <td>0.416656</td>\n",
       "      <td>0.381755</td>\n",
       "    </tr>\n",
       "    <tr>\n",
       "      <th>shimmerLocaldB_sma3nz</th>\n",
       "      <td>0.386564</td>\n",
       "      <td>0.365401</td>\n",
       "    </tr>\n",
       "    <tr>\n",
       "      <th>HNRdBACF_sma3nz</th>\n",
       "      <td>0.802872</td>\n",
       "      <td>0.774594</td>\n",
       "    </tr>\n",
       "    <tr>\n",
       "      <th>logRelF0-H1-H2_sma3nz</th>\n",
       "      <td>0.551874</td>\n",
       "      <td>0.476713</td>\n",
       "    </tr>\n",
       "    <tr>\n",
       "      <th>logRelF0-H1-A3_sma3nz</th>\n",
       "      <td>0.488461</td>\n",
       "      <td>0.517493</td>\n",
       "    </tr>\n",
       "    <tr>\n",
       "      <th>F1frequency_sma3nz</th>\n",
       "      <td>0.214063</td>\n",
       "      <td>0.196105</td>\n",
       "    </tr>\n",
       "    <tr>\n",
       "      <th>F1bandwidth_sma3nz</th>\n",
       "      <td>0.090329</td>\n",
       "      <td>0.086256</td>\n",
       "    </tr>\n",
       "    <tr>\n",
       "      <th>F1amplitudeLogRelF0_sma3nz</th>\n",
       "      <td>0.716410</td>\n",
       "      <td>0.700665</td>\n",
       "    </tr>\n",
       "    <tr>\n",
       "      <th>F2frequency_sma3nz</th>\n",
       "      <td>0.154641</td>\n",
       "      <td>0.139038</td>\n",
       "    </tr>\n",
       "    <tr>\n",
       "      <th>F2bandwidth_sma3nz</th>\n",
       "      <td>0.094932</td>\n",
       "      <td>0.111129</td>\n",
       "    </tr>\n",
       "    <tr>\n",
       "      <th>F2amplitudeLogRelF0_sma3nz</th>\n",
       "      <td>0.723333</td>\n",
       "      <td>0.712316</td>\n",
       "    </tr>\n",
       "    <tr>\n",
       "      <th>F3frequency_sma3nz</th>\n",
       "      <td>0.142324</td>\n",
       "      <td>0.109137</td>\n",
       "    </tr>\n",
       "    <tr>\n",
       "      <th>F3bandwidth_sma3nz</th>\n",
       "      <td>0.058870</td>\n",
       "      <td>0.097202</td>\n",
       "    </tr>\n",
       "    <tr>\n",
       "      <th>F3amplitudeLogRelF0_sma3nz</th>\n",
       "      <td>0.714807</td>\n",
       "      <td>0.710903</td>\n",
       "    </tr>\n",
       "  </tbody>\n",
       "</table>\n",
       "</div>"
      ],
      "text/plain": [
       "                             demucs_enhanced  fullsubnet_enhanced\n",
       "Loudness_sma3                       0.786459            -0.182841\n",
       "alphaRatio_sma3                     0.471496             0.422638\n",
       "hammarbergIndex_sma3                0.421453             0.400999\n",
       "slope0-500_sma3                     0.477165             0.342616\n",
       "slope500-1500_sma3                  0.328931             0.155407\n",
       "spectralFlux_sma3                   0.848398            -0.642204\n",
       "mfcc1_sma3                          0.474101             0.443722\n",
       "mfcc2_sma3                          0.399029             0.368995\n",
       "mfcc3_sma3                          0.381000             0.268813\n",
       "mfcc4_sma3                          0.335792             0.283815\n",
       "F0semitoneFrom27.5Hz_sma3nz         0.747487             0.756809\n",
       "jitterLocal_sma3nz                  0.416656             0.381755\n",
       "shimmerLocaldB_sma3nz               0.386564             0.365401\n",
       "HNRdBACF_sma3nz                     0.802872             0.774594\n",
       "logRelF0-H1-H2_sma3nz               0.551874             0.476713\n",
       "logRelF0-H1-A3_sma3nz               0.488461             0.517493\n",
       "F1frequency_sma3nz                  0.214063             0.196105\n",
       "F1bandwidth_sma3nz                  0.090329             0.086256\n",
       "F1amplitudeLogRelF0_sma3nz          0.716410             0.700665\n",
       "F2frequency_sma3nz                  0.154641             0.139038\n",
       "F2bandwidth_sma3nz                  0.094932             0.111129\n",
       "F2amplitudeLogRelF0_sma3nz          0.723333             0.712316\n",
       "F3frequency_sma3nz                  0.142324             0.109137\n",
       "F3bandwidth_sma3nz                  0.058870             0.097202\n",
       "F3amplitudeLogRelF0_sma3nz          0.714807             0.710903"
      ]
     },
     "execution_count": 12,
     "metadata": {},
     "output_type": "execute_result"
    }
   ],
   "source": [
    "Improve_df"
   ]
  },
  {
   "cell_type": "code",
   "execution_count": 13,
   "metadata": {},
   "outputs": [
    {
     "data": {
      "text/plain": [
       "array([23, 17, 20, 22, 19, 16,  4,  9,  8, 12,  7, 11,  2,  1,  6,  3, 15,\n",
       "       14, 24, 18, 21, 10,  0, 13,  5])"
      ]
     },
     "execution_count": 13,
     "metadata": {},
     "output_type": "execute_result"
    }
   ],
   "source": [
    "np.argsort(Imp_demucs)"
   ]
  },
  {
   "cell_type": "code",
   "execution_count": 14,
   "metadata": {},
   "outputs": [],
   "source": [
    "LLD = opensmile.Smile(\n",
    "    feature_set=opensmile.FeatureSet.eGeMAPSv02,\n",
    "    feature_level=opensmile.FeatureLevel.LowLevelDescriptors)\n",
    "\n",
    "FEATURE_NAMES = LLD.feature_names"
   ]
  },
  {
   "cell_type": "code",
   "execution_count": 15,
   "metadata": {},
   "outputs": [
    {
     "data": {
      "text/plain": [
       "25"
      ]
     },
     "execution_count": 15,
     "metadata": {},
     "output_type": "execute_result"
    }
   ],
   "source": [
    "len(FEATURE_NAMES)"
   ]
  },
  {
   "cell_type": "code",
   "execution_count": 16,
   "metadata": {},
   "outputs": [
    {
     "data": {
      "text/plain": [
       "['Loudness_sma3',\n",
       " 'alphaRatio_sma3',\n",
       " 'hammarbergIndex_sma3',\n",
       " 'slope0-500_sma3',\n",
       " 'slope500-1500_sma3',\n",
       " 'spectralFlux_sma3',\n",
       " 'mfcc1_sma3',\n",
       " 'mfcc2_sma3',\n",
       " 'mfcc3_sma3',\n",
       " 'mfcc4_sma3',\n",
       " 'F0semitoneFrom27.5Hz_sma3nz',\n",
       " 'jitterLocal_sma3nz',\n",
       " 'shimmerLocaldB_sma3nz',\n",
       " 'HNRdBACF_sma3nz',\n",
       " 'logRelF0-H1-H2_sma3nz',\n",
       " 'logRelF0-H1-A3_sma3nz',\n",
       " 'F1frequency_sma3nz',\n",
       " 'F1bandwidth_sma3nz',\n",
       " 'F1amplitudeLogRelF0_sma3nz',\n",
       " 'F2frequency_sma3nz',\n",
       " 'F2bandwidth_sma3nz',\n",
       " 'F2amplitudeLogRelF0_sma3nz',\n",
       " 'F3frequency_sma3nz',\n",
       " 'F3bandwidth_sma3nz',\n",
       " 'F3amplitudeLogRelF0_sma3nz']"
      ]
     },
     "execution_count": 16,
     "metadata": {},
     "output_type": "execute_result"
    }
   ],
   "source": [
    "FEATURE_NAMES"
   ]
  },
  {
   "cell_type": "code",
   "execution_count": 17,
   "metadata": {},
   "outputs": [],
   "source": [
    "import plotly\n",
    "import plotly.subplots\n",
    "import plotly.graph_objects"
   ]
  },
  {
   "cell_type": "code",
   "execution_count": 23,
   "metadata": {},
   "outputs": [
    {
     "data": {
      "application/vnd.plotly.v1+json": {
       "config": {
        "plotlyServerURL": "https://plot.ly"
       },
       "data": [
        {
         "name": "Demucs Improvement Over Noisy",
         "orientation": "h",
         "type": "bar",
         "x": [
          0.058869630098342896,
          0.09032877534627914,
          0.09493167698383331,
          0.14232437312602997,
          0.15464092791080475,
          0.2140628695487976,
          0.3289307951927185,
          0.3357916474342346,
          0.38099971413612366,
          0.38656431436538696,
          0.3990292549133301,
          0.41665586829185486,
          0.4214533567428589,
          0.47149643301963806,
          0.4741014242172241,
          0.47716477513313293,
          0.4884609282016754,
          0.5518736243247986,
          0.7148070931434631,
          0.7164096832275391,
          0.7233327627182007,
          0.7474868893623352,
          0.7864585518836975,
          0.8028716444969177,
          0.8483983874320984
         ],
         "y": [
          "F3bandwidth",
          "F1bandwidth",
          "F2bandwidth",
          "F3frequency",
          "F2frequency",
          "F1frequency",
          "slope500-1500",
          "mfcc4",
          "mfcc3",
          "shimmerLocaldB",
          "mfcc2",
          "jitterLocal",
          "hammarbergIndex",
          "alphaRatio",
          "mfcc1",
          "slope0-500",
          "logRelF0-H1-A3",
          "logRelF0-H1-H2",
          "F3amplitudeLogRelF0",
          "F1amplitudeLogRelF0",
          "F2amplitudeLogRelF0",
          "F0semitoneFrom27.5Hz",
          "Loudness",
          "HNRdBACF",
          "spectralFlux"
         ]
        },
        {
         "name": "FullSubNet Improvement Over Noisy",
         "orientation": "h",
         "type": "bar",
         "x": [
          0.09720218181610107,
          0.08625644445419312,
          0.1111287921667099,
          0.10913710296154022,
          0.1390380859375,
          0.19610537588596344,
          0.1554066687822342,
          0.2838149666786194,
          0.2688128352165222,
          0.365401029586792,
          0.36899515986442566,
          0.3817552924156189,
          0.4009985327720642,
          0.4226376712322235,
          0.4437215030193329,
          0.34261631965637207,
          0.517493486404419,
          0.4767133891582489,
          0.710902988910675,
          0.7006651163101196,
          0.7123157382011414,
          0.756808876991272,
          -0.18284130096435547,
          0.7745935916900635,
          -0.6422038674354553
         ],
         "y": [
          "F3bandwidth",
          "F1bandwidth",
          "F2bandwidth",
          "F3frequency",
          "F2frequency",
          "F1frequency",
          "slope500-1500",
          "mfcc4",
          "mfcc3",
          "shimmerLocaldB",
          "mfcc2",
          "jitterLocal",
          "hammarbergIndex",
          "alphaRatio",
          "mfcc1",
          "slope0-500",
          "logRelF0-H1-A3",
          "logRelF0-H1-H2",
          "F3amplitudeLogRelF0",
          "F1amplitudeLogRelF0",
          "F2amplitudeLogRelF0",
          "F0semitoneFrom27.5Hz",
          "Loudness",
          "HNRdBACF",
          "spectralFlux"
         ]
        }
       ],
       "layout": {
        "bargap": 0.5,
        "font": {
         "family": "Times New Roman",
         "size": 16
        },
        "height": 870,
        "legend": {
         "orientation": "h",
         "yanchor": "bottom"
        },
        "margin": {
         "b": 0,
         "l": 0,
         "r": 0,
         "t": 0
        },
        "template": {
         "data": {
          "bar": [
           {
            "error_x": {
             "color": "#2a3f5f"
            },
            "error_y": {
             "color": "#2a3f5f"
            },
            "marker": {
             "line": {
              "color": "#E5ECF6",
              "width": 0.5
             },
             "pattern": {
              "fillmode": "overlay",
              "size": 10,
              "solidity": 0.2
             }
            },
            "type": "bar"
           }
          ],
          "barpolar": [
           {
            "marker": {
             "line": {
              "color": "#E5ECF6",
              "width": 0.5
             },
             "pattern": {
              "fillmode": "overlay",
              "size": 10,
              "solidity": 0.2
             }
            },
            "type": "barpolar"
           }
          ],
          "carpet": [
           {
            "aaxis": {
             "endlinecolor": "#2a3f5f",
             "gridcolor": "white",
             "linecolor": "white",
             "minorgridcolor": "white",
             "startlinecolor": "#2a3f5f"
            },
            "baxis": {
             "endlinecolor": "#2a3f5f",
             "gridcolor": "white",
             "linecolor": "white",
             "minorgridcolor": "white",
             "startlinecolor": "#2a3f5f"
            },
            "type": "carpet"
           }
          ],
          "choropleth": [
           {
            "colorbar": {
             "outlinewidth": 0,
             "ticks": ""
            },
            "type": "choropleth"
           }
          ],
          "contour": [
           {
            "colorbar": {
             "outlinewidth": 0,
             "ticks": ""
            },
            "colorscale": [
             [
              0,
              "#0d0887"
             ],
             [
              0.1111111111111111,
              "#46039f"
             ],
             [
              0.2222222222222222,
              "#7201a8"
             ],
             [
              0.3333333333333333,
              "#9c179e"
             ],
             [
              0.4444444444444444,
              "#bd3786"
             ],
             [
              0.5555555555555556,
              "#d8576b"
             ],
             [
              0.6666666666666666,
              "#ed7953"
             ],
             [
              0.7777777777777778,
              "#fb9f3a"
             ],
             [
              0.8888888888888888,
              "#fdca26"
             ],
             [
              1,
              "#f0f921"
             ]
            ],
            "type": "contour"
           }
          ],
          "contourcarpet": [
           {
            "colorbar": {
             "outlinewidth": 0,
             "ticks": ""
            },
            "type": "contourcarpet"
           }
          ],
          "heatmap": [
           {
            "colorbar": {
             "outlinewidth": 0,
             "ticks": ""
            },
            "colorscale": [
             [
              0,
              "#0d0887"
             ],
             [
              0.1111111111111111,
              "#46039f"
             ],
             [
              0.2222222222222222,
              "#7201a8"
             ],
             [
              0.3333333333333333,
              "#9c179e"
             ],
             [
              0.4444444444444444,
              "#bd3786"
             ],
             [
              0.5555555555555556,
              "#d8576b"
             ],
             [
              0.6666666666666666,
              "#ed7953"
             ],
             [
              0.7777777777777778,
              "#fb9f3a"
             ],
             [
              0.8888888888888888,
              "#fdca26"
             ],
             [
              1,
              "#f0f921"
             ]
            ],
            "type": "heatmap"
           }
          ],
          "heatmapgl": [
           {
            "colorbar": {
             "outlinewidth": 0,
             "ticks": ""
            },
            "colorscale": [
             [
              0,
              "#0d0887"
             ],
             [
              0.1111111111111111,
              "#46039f"
             ],
             [
              0.2222222222222222,
              "#7201a8"
             ],
             [
              0.3333333333333333,
              "#9c179e"
             ],
             [
              0.4444444444444444,
              "#bd3786"
             ],
             [
              0.5555555555555556,
              "#d8576b"
             ],
             [
              0.6666666666666666,
              "#ed7953"
             ],
             [
              0.7777777777777778,
              "#fb9f3a"
             ],
             [
              0.8888888888888888,
              "#fdca26"
             ],
             [
              1,
              "#f0f921"
             ]
            ],
            "type": "heatmapgl"
           }
          ],
          "histogram": [
           {
            "marker": {
             "pattern": {
              "fillmode": "overlay",
              "size": 10,
              "solidity": 0.2
             }
            },
            "type": "histogram"
           }
          ],
          "histogram2d": [
           {
            "colorbar": {
             "outlinewidth": 0,
             "ticks": ""
            },
            "colorscale": [
             [
              0,
              "#0d0887"
             ],
             [
              0.1111111111111111,
              "#46039f"
             ],
             [
              0.2222222222222222,
              "#7201a8"
             ],
             [
              0.3333333333333333,
              "#9c179e"
             ],
             [
              0.4444444444444444,
              "#bd3786"
             ],
             [
              0.5555555555555556,
              "#d8576b"
             ],
             [
              0.6666666666666666,
              "#ed7953"
             ],
             [
              0.7777777777777778,
              "#fb9f3a"
             ],
             [
              0.8888888888888888,
              "#fdca26"
             ],
             [
              1,
              "#f0f921"
             ]
            ],
            "type": "histogram2d"
           }
          ],
          "histogram2dcontour": [
           {
            "colorbar": {
             "outlinewidth": 0,
             "ticks": ""
            },
            "colorscale": [
             [
              0,
              "#0d0887"
             ],
             [
              0.1111111111111111,
              "#46039f"
             ],
             [
              0.2222222222222222,
              "#7201a8"
             ],
             [
              0.3333333333333333,
              "#9c179e"
             ],
             [
              0.4444444444444444,
              "#bd3786"
             ],
             [
              0.5555555555555556,
              "#d8576b"
             ],
             [
              0.6666666666666666,
              "#ed7953"
             ],
             [
              0.7777777777777778,
              "#fb9f3a"
             ],
             [
              0.8888888888888888,
              "#fdca26"
             ],
             [
              1,
              "#f0f921"
             ]
            ],
            "type": "histogram2dcontour"
           }
          ],
          "mesh3d": [
           {
            "colorbar": {
             "outlinewidth": 0,
             "ticks": ""
            },
            "type": "mesh3d"
           }
          ],
          "parcoords": [
           {
            "line": {
             "colorbar": {
              "outlinewidth": 0,
              "ticks": ""
             }
            },
            "type": "parcoords"
           }
          ],
          "pie": [
           {
            "automargin": true,
            "type": "pie"
           }
          ],
          "scatter": [
           {
            "fillpattern": {
             "fillmode": "overlay",
             "size": 10,
             "solidity": 0.2
            },
            "type": "scatter"
           }
          ],
          "scatter3d": [
           {
            "line": {
             "colorbar": {
              "outlinewidth": 0,
              "ticks": ""
             }
            },
            "marker": {
             "colorbar": {
              "outlinewidth": 0,
              "ticks": ""
             }
            },
            "type": "scatter3d"
           }
          ],
          "scattercarpet": [
           {
            "marker": {
             "colorbar": {
              "outlinewidth": 0,
              "ticks": ""
             }
            },
            "type": "scattercarpet"
           }
          ],
          "scattergeo": [
           {
            "marker": {
             "colorbar": {
              "outlinewidth": 0,
              "ticks": ""
             }
            },
            "type": "scattergeo"
           }
          ],
          "scattergl": [
           {
            "marker": {
             "colorbar": {
              "outlinewidth": 0,
              "ticks": ""
             }
            },
            "type": "scattergl"
           }
          ],
          "scattermapbox": [
           {
            "marker": {
             "colorbar": {
              "outlinewidth": 0,
              "ticks": ""
             }
            },
            "type": "scattermapbox"
           }
          ],
          "scatterpolar": [
           {
            "marker": {
             "colorbar": {
              "outlinewidth": 0,
              "ticks": ""
             }
            },
            "type": "scatterpolar"
           }
          ],
          "scatterpolargl": [
           {
            "marker": {
             "colorbar": {
              "outlinewidth": 0,
              "ticks": ""
             }
            },
            "type": "scatterpolargl"
           }
          ],
          "scatterternary": [
           {
            "marker": {
             "colorbar": {
              "outlinewidth": 0,
              "ticks": ""
             }
            },
            "type": "scatterternary"
           }
          ],
          "surface": [
           {
            "colorbar": {
             "outlinewidth": 0,
             "ticks": ""
            },
            "colorscale": [
             [
              0,
              "#0d0887"
             ],
             [
              0.1111111111111111,
              "#46039f"
             ],
             [
              0.2222222222222222,
              "#7201a8"
             ],
             [
              0.3333333333333333,
              "#9c179e"
             ],
             [
              0.4444444444444444,
              "#bd3786"
             ],
             [
              0.5555555555555556,
              "#d8576b"
             ],
             [
              0.6666666666666666,
              "#ed7953"
             ],
             [
              0.7777777777777778,
              "#fb9f3a"
             ],
             [
              0.8888888888888888,
              "#fdca26"
             ],
             [
              1,
              "#f0f921"
             ]
            ],
            "type": "surface"
           }
          ],
          "table": [
           {
            "cells": {
             "fill": {
              "color": "#EBF0F8"
             },
             "line": {
              "color": "white"
             }
            },
            "header": {
             "fill": {
              "color": "#C8D4E3"
             },
             "line": {
              "color": "white"
             }
            },
            "type": "table"
           }
          ]
         },
         "layout": {
          "annotationdefaults": {
           "arrowcolor": "#2a3f5f",
           "arrowhead": 0,
           "arrowwidth": 1
          },
          "autotypenumbers": "strict",
          "coloraxis": {
           "colorbar": {
            "outlinewidth": 0,
            "ticks": ""
           }
          },
          "colorscale": {
           "diverging": [
            [
             0,
             "#8e0152"
            ],
            [
             0.1,
             "#c51b7d"
            ],
            [
             0.2,
             "#de77ae"
            ],
            [
             0.3,
             "#f1b6da"
            ],
            [
             0.4,
             "#fde0ef"
            ],
            [
             0.5,
             "#f7f7f7"
            ],
            [
             0.6,
             "#e6f5d0"
            ],
            [
             0.7,
             "#b8e186"
            ],
            [
             0.8,
             "#7fbc41"
            ],
            [
             0.9,
             "#4d9221"
            ],
            [
             1,
             "#276419"
            ]
           ],
           "sequential": [
            [
             0,
             "#0d0887"
            ],
            [
             0.1111111111111111,
             "#46039f"
            ],
            [
             0.2222222222222222,
             "#7201a8"
            ],
            [
             0.3333333333333333,
             "#9c179e"
            ],
            [
             0.4444444444444444,
             "#bd3786"
            ],
            [
             0.5555555555555556,
             "#d8576b"
            ],
            [
             0.6666666666666666,
             "#ed7953"
            ],
            [
             0.7777777777777778,
             "#fb9f3a"
            ],
            [
             0.8888888888888888,
             "#fdca26"
            ],
            [
             1,
             "#f0f921"
            ]
           ],
           "sequentialminus": [
            [
             0,
             "#0d0887"
            ],
            [
             0.1111111111111111,
             "#46039f"
            ],
            [
             0.2222222222222222,
             "#7201a8"
            ],
            [
             0.3333333333333333,
             "#9c179e"
            ],
            [
             0.4444444444444444,
             "#bd3786"
            ],
            [
             0.5555555555555556,
             "#d8576b"
            ],
            [
             0.6666666666666666,
             "#ed7953"
            ],
            [
             0.7777777777777778,
             "#fb9f3a"
            ],
            [
             0.8888888888888888,
             "#fdca26"
            ],
            [
             1,
             "#f0f921"
            ]
           ]
          },
          "colorway": [
           "#636efa",
           "#EF553B",
           "#00cc96",
           "#ab63fa",
           "#FFA15A",
           "#19d3f3",
           "#FF6692",
           "#B6E880",
           "#FF97FF",
           "#FECB52"
          ],
          "font": {
           "color": "#2a3f5f"
          },
          "geo": {
           "bgcolor": "white",
           "lakecolor": "white",
           "landcolor": "#E5ECF6",
           "showlakes": true,
           "showland": true,
           "subunitcolor": "white"
          },
          "hoverlabel": {
           "align": "left"
          },
          "hovermode": "closest",
          "mapbox": {
           "style": "light"
          },
          "paper_bgcolor": "white",
          "plot_bgcolor": "#E5ECF6",
          "polar": {
           "angularaxis": {
            "gridcolor": "white",
            "linecolor": "white",
            "ticks": ""
           },
           "bgcolor": "#E5ECF6",
           "radialaxis": {
            "gridcolor": "white",
            "linecolor": "white",
            "ticks": ""
           }
          },
          "scene": {
           "xaxis": {
            "backgroundcolor": "#E5ECF6",
            "gridcolor": "white",
            "gridwidth": 2,
            "linecolor": "white",
            "showbackground": true,
            "ticks": "",
            "zerolinecolor": "white"
           },
           "yaxis": {
            "backgroundcolor": "#E5ECF6",
            "gridcolor": "white",
            "gridwidth": 2,
            "linecolor": "white",
            "showbackground": true,
            "ticks": "",
            "zerolinecolor": "white"
           },
           "zaxis": {
            "backgroundcolor": "#E5ECF6",
            "gridcolor": "white",
            "gridwidth": 2,
            "linecolor": "white",
            "showbackground": true,
            "ticks": "",
            "zerolinecolor": "white"
           }
          },
          "shapedefaults": {
           "line": {
            "color": "#2a3f5f"
           }
          },
          "ternary": {
           "aaxis": {
            "gridcolor": "white",
            "linecolor": "white",
            "ticks": ""
           },
           "baxis": {
            "gridcolor": "white",
            "linecolor": "white",
            "ticks": ""
           },
           "bgcolor": "#E5ECF6",
           "caxis": {
            "gridcolor": "white",
            "linecolor": "white",
            "ticks": ""
           }
          },
          "title": {
           "x": 0.05
          },
          "xaxis": {
           "automargin": true,
           "gridcolor": "white",
           "linecolor": "white",
           "ticks": "",
           "title": {
            "standoff": 15
           },
           "zerolinecolor": "white",
           "zerolinewidth": 2
          },
          "yaxis": {
           "automargin": true,
           "gridcolor": "white",
           "linecolor": "white",
           "ticks": "",
           "title": {
            "standoff": 15
           },
           "zerolinecolor": "white",
           "zerolinewidth": 2
          }
         }
        },
        "width": 720,
        "xaxis": {
         "dtick": 0.2,
         "range": [
          -1,
          1
         ],
         "tickmode": "linear"
        }
       }
      },
      "text/html": [
       "<div>                            <div id=\"081f8444-bedf-43a2-8765-4a151209c3cc\" class=\"plotly-graph-div\" style=\"height:870px; width:720px;\"></div>            <script type=\"text/javascript\">                require([\"plotly\"], function(Plotly) {                    window.PLOTLYENV=window.PLOTLYENV || {};                                    if (document.getElementById(\"081f8444-bedf-43a2-8765-4a151209c3cc\")) {                    Plotly.newPlot(                        \"081f8444-bedf-43a2-8765-4a151209c3cc\",                        [{\"name\":\"Demucs Improvement Over Noisy\",\"orientation\":\"h\",\"x\":[0.058869630098342896,0.09032877534627914,0.09493167698383331,0.14232437312602997,0.15464092791080475,0.2140628695487976,0.3289307951927185,0.3357916474342346,0.38099971413612366,0.38656431436538696,0.3990292549133301,0.41665586829185486,0.4214533567428589,0.47149643301963806,0.4741014242172241,0.47716477513313293,0.4884609282016754,0.5518736243247986,0.7148070931434631,0.7164096832275391,0.7233327627182007,0.7474868893623352,0.7864585518836975,0.8028716444969177,0.8483983874320984],\"y\":[\"F3bandwidth\",\"F1bandwidth\",\"F2bandwidth\",\"F3frequency\",\"F2frequency\",\"F1frequency\",\"slope500-1500\",\"mfcc4\",\"mfcc3\",\"shimmerLocaldB\",\"mfcc2\",\"jitterLocal\",\"hammarbergIndex\",\"alphaRatio\",\"mfcc1\",\"slope0-500\",\"logRelF0-H1-A3\",\"logRelF0-H1-H2\",\"F3amplitudeLogRelF0\",\"F1amplitudeLogRelF0\",\"F2amplitudeLogRelF0\",\"F0semitoneFrom27.5Hz\",\"Loudness\",\"HNRdBACF\",\"spectralFlux\"],\"type\":\"bar\"},{\"name\":\"FullSubNet Improvement Over Noisy\",\"orientation\":\"h\",\"x\":[0.09720218181610107,0.08625644445419312,0.1111287921667099,0.10913710296154022,0.1390380859375,0.19610537588596344,0.1554066687822342,0.2838149666786194,0.2688128352165222,0.365401029586792,0.36899515986442566,0.3817552924156189,0.4009985327720642,0.4226376712322235,0.4437215030193329,0.34261631965637207,0.517493486404419,0.4767133891582489,0.710902988910675,0.7006651163101196,0.7123157382011414,0.756808876991272,-0.18284130096435547,0.7745935916900635,-0.6422038674354553],\"y\":[\"F3bandwidth\",\"F1bandwidth\",\"F2bandwidth\",\"F3frequency\",\"F2frequency\",\"F1frequency\",\"slope500-1500\",\"mfcc4\",\"mfcc3\",\"shimmerLocaldB\",\"mfcc2\",\"jitterLocal\",\"hammarbergIndex\",\"alphaRatio\",\"mfcc1\",\"slope0-500\",\"logRelF0-H1-A3\",\"logRelF0-H1-H2\",\"F3amplitudeLogRelF0\",\"F1amplitudeLogRelF0\",\"F2amplitudeLogRelF0\",\"F0semitoneFrom27.5Hz\",\"Loudness\",\"HNRdBACF\",\"spectralFlux\"],\"type\":\"bar\"}],                        {\"template\":{\"data\":{\"histogram2dcontour\":[{\"type\":\"histogram2dcontour\",\"colorbar\":{\"outlinewidth\":0,\"ticks\":\"\"},\"colorscale\":[[0.0,\"#0d0887\"],[0.1111111111111111,\"#46039f\"],[0.2222222222222222,\"#7201a8\"],[0.3333333333333333,\"#9c179e\"],[0.4444444444444444,\"#bd3786\"],[0.5555555555555556,\"#d8576b\"],[0.6666666666666666,\"#ed7953\"],[0.7777777777777778,\"#fb9f3a\"],[0.8888888888888888,\"#fdca26\"],[1.0,\"#f0f921\"]]}],\"choropleth\":[{\"type\":\"choropleth\",\"colorbar\":{\"outlinewidth\":0,\"ticks\":\"\"}}],\"histogram2d\":[{\"type\":\"histogram2d\",\"colorbar\":{\"outlinewidth\":0,\"ticks\":\"\"},\"colorscale\":[[0.0,\"#0d0887\"],[0.1111111111111111,\"#46039f\"],[0.2222222222222222,\"#7201a8\"],[0.3333333333333333,\"#9c179e\"],[0.4444444444444444,\"#bd3786\"],[0.5555555555555556,\"#d8576b\"],[0.6666666666666666,\"#ed7953\"],[0.7777777777777778,\"#fb9f3a\"],[0.8888888888888888,\"#fdca26\"],[1.0,\"#f0f921\"]]}],\"heatmap\":[{\"type\":\"heatmap\",\"colorbar\":{\"outlinewidth\":0,\"ticks\":\"\"},\"colorscale\":[[0.0,\"#0d0887\"],[0.1111111111111111,\"#46039f\"],[0.2222222222222222,\"#7201a8\"],[0.3333333333333333,\"#9c179e\"],[0.4444444444444444,\"#bd3786\"],[0.5555555555555556,\"#d8576b\"],[0.6666666666666666,\"#ed7953\"],[0.7777777777777778,\"#fb9f3a\"],[0.8888888888888888,\"#fdca26\"],[1.0,\"#f0f921\"]]}],\"heatmapgl\":[{\"type\":\"heatmapgl\",\"colorbar\":{\"outlinewidth\":0,\"ticks\":\"\"},\"colorscale\":[[0.0,\"#0d0887\"],[0.1111111111111111,\"#46039f\"],[0.2222222222222222,\"#7201a8\"],[0.3333333333333333,\"#9c179e\"],[0.4444444444444444,\"#bd3786\"],[0.5555555555555556,\"#d8576b\"],[0.6666666666666666,\"#ed7953\"],[0.7777777777777778,\"#fb9f3a\"],[0.8888888888888888,\"#fdca26\"],[1.0,\"#f0f921\"]]}],\"contourcarpet\":[{\"type\":\"contourcarpet\",\"colorbar\":{\"outlinewidth\":0,\"ticks\":\"\"}}],\"contour\":[{\"type\":\"contour\",\"colorbar\":{\"outlinewidth\":0,\"ticks\":\"\"},\"colorscale\":[[0.0,\"#0d0887\"],[0.1111111111111111,\"#46039f\"],[0.2222222222222222,\"#7201a8\"],[0.3333333333333333,\"#9c179e\"],[0.4444444444444444,\"#bd3786\"],[0.5555555555555556,\"#d8576b\"],[0.6666666666666666,\"#ed7953\"],[0.7777777777777778,\"#fb9f3a\"],[0.8888888888888888,\"#fdca26\"],[1.0,\"#f0f921\"]]}],\"surface\":[{\"type\":\"surface\",\"colorbar\":{\"outlinewidth\":0,\"ticks\":\"\"},\"colorscale\":[[0.0,\"#0d0887\"],[0.1111111111111111,\"#46039f\"],[0.2222222222222222,\"#7201a8\"],[0.3333333333333333,\"#9c179e\"],[0.4444444444444444,\"#bd3786\"],[0.5555555555555556,\"#d8576b\"],[0.6666666666666666,\"#ed7953\"],[0.7777777777777778,\"#fb9f3a\"],[0.8888888888888888,\"#fdca26\"],[1.0,\"#f0f921\"]]}],\"mesh3d\":[{\"type\":\"mesh3d\",\"colorbar\":{\"outlinewidth\":0,\"ticks\":\"\"}}],\"scatter\":[{\"fillpattern\":{\"fillmode\":\"overlay\",\"size\":10,\"solidity\":0.2},\"type\":\"scatter\"}],\"parcoords\":[{\"type\":\"parcoords\",\"line\":{\"colorbar\":{\"outlinewidth\":0,\"ticks\":\"\"}}}],\"scatterpolargl\":[{\"type\":\"scatterpolargl\",\"marker\":{\"colorbar\":{\"outlinewidth\":0,\"ticks\":\"\"}}}],\"bar\":[{\"error_x\":{\"color\":\"#2a3f5f\"},\"error_y\":{\"color\":\"#2a3f5f\"},\"marker\":{\"line\":{\"color\":\"#E5ECF6\",\"width\":0.5},\"pattern\":{\"fillmode\":\"overlay\",\"size\":10,\"solidity\":0.2}},\"type\":\"bar\"}],\"scattergeo\":[{\"type\":\"scattergeo\",\"marker\":{\"colorbar\":{\"outlinewidth\":0,\"ticks\":\"\"}}}],\"scatterpolar\":[{\"type\":\"scatterpolar\",\"marker\":{\"colorbar\":{\"outlinewidth\":0,\"ticks\":\"\"}}}],\"histogram\":[{\"marker\":{\"pattern\":{\"fillmode\":\"overlay\",\"size\":10,\"solidity\":0.2}},\"type\":\"histogram\"}],\"scattergl\":[{\"type\":\"scattergl\",\"marker\":{\"colorbar\":{\"outlinewidth\":0,\"ticks\":\"\"}}}],\"scatter3d\":[{\"type\":\"scatter3d\",\"line\":{\"colorbar\":{\"outlinewidth\":0,\"ticks\":\"\"}},\"marker\":{\"colorbar\":{\"outlinewidth\":0,\"ticks\":\"\"}}}],\"scattermapbox\":[{\"type\":\"scattermapbox\",\"marker\":{\"colorbar\":{\"outlinewidth\":0,\"ticks\":\"\"}}}],\"scatterternary\":[{\"type\":\"scatterternary\",\"marker\":{\"colorbar\":{\"outlinewidth\":0,\"ticks\":\"\"}}}],\"scattercarpet\":[{\"type\":\"scattercarpet\",\"marker\":{\"colorbar\":{\"outlinewidth\":0,\"ticks\":\"\"}}}],\"carpet\":[{\"aaxis\":{\"endlinecolor\":\"#2a3f5f\",\"gridcolor\":\"white\",\"linecolor\":\"white\",\"minorgridcolor\":\"white\",\"startlinecolor\":\"#2a3f5f\"},\"baxis\":{\"endlinecolor\":\"#2a3f5f\",\"gridcolor\":\"white\",\"linecolor\":\"white\",\"minorgridcolor\":\"white\",\"startlinecolor\":\"#2a3f5f\"},\"type\":\"carpet\"}],\"table\":[{\"cells\":{\"fill\":{\"color\":\"#EBF0F8\"},\"line\":{\"color\":\"white\"}},\"header\":{\"fill\":{\"color\":\"#C8D4E3\"},\"line\":{\"color\":\"white\"}},\"type\":\"table\"}],\"barpolar\":[{\"marker\":{\"line\":{\"color\":\"#E5ECF6\",\"width\":0.5},\"pattern\":{\"fillmode\":\"overlay\",\"size\":10,\"solidity\":0.2}},\"type\":\"barpolar\"}],\"pie\":[{\"automargin\":true,\"type\":\"pie\"}]},\"layout\":{\"autotypenumbers\":\"strict\",\"colorway\":[\"#636efa\",\"#EF553B\",\"#00cc96\",\"#ab63fa\",\"#FFA15A\",\"#19d3f3\",\"#FF6692\",\"#B6E880\",\"#FF97FF\",\"#FECB52\"],\"font\":{\"color\":\"#2a3f5f\"},\"hovermode\":\"closest\",\"hoverlabel\":{\"align\":\"left\"},\"paper_bgcolor\":\"white\",\"plot_bgcolor\":\"#E5ECF6\",\"polar\":{\"bgcolor\":\"#E5ECF6\",\"angularaxis\":{\"gridcolor\":\"white\",\"linecolor\":\"white\",\"ticks\":\"\"},\"radialaxis\":{\"gridcolor\":\"white\",\"linecolor\":\"white\",\"ticks\":\"\"}},\"ternary\":{\"bgcolor\":\"#E5ECF6\",\"aaxis\":{\"gridcolor\":\"white\",\"linecolor\":\"white\",\"ticks\":\"\"},\"baxis\":{\"gridcolor\":\"white\",\"linecolor\":\"white\",\"ticks\":\"\"},\"caxis\":{\"gridcolor\":\"white\",\"linecolor\":\"white\",\"ticks\":\"\"}},\"coloraxis\":{\"colorbar\":{\"outlinewidth\":0,\"ticks\":\"\"}},\"colorscale\":{\"sequential\":[[0.0,\"#0d0887\"],[0.1111111111111111,\"#46039f\"],[0.2222222222222222,\"#7201a8\"],[0.3333333333333333,\"#9c179e\"],[0.4444444444444444,\"#bd3786\"],[0.5555555555555556,\"#d8576b\"],[0.6666666666666666,\"#ed7953\"],[0.7777777777777778,\"#fb9f3a\"],[0.8888888888888888,\"#fdca26\"],[1.0,\"#f0f921\"]],\"sequentialminus\":[[0.0,\"#0d0887\"],[0.1111111111111111,\"#46039f\"],[0.2222222222222222,\"#7201a8\"],[0.3333333333333333,\"#9c179e\"],[0.4444444444444444,\"#bd3786\"],[0.5555555555555556,\"#d8576b\"],[0.6666666666666666,\"#ed7953\"],[0.7777777777777778,\"#fb9f3a\"],[0.8888888888888888,\"#fdca26\"],[1.0,\"#f0f921\"]],\"diverging\":[[0,\"#8e0152\"],[0.1,\"#c51b7d\"],[0.2,\"#de77ae\"],[0.3,\"#f1b6da\"],[0.4,\"#fde0ef\"],[0.5,\"#f7f7f7\"],[0.6,\"#e6f5d0\"],[0.7,\"#b8e186\"],[0.8,\"#7fbc41\"],[0.9,\"#4d9221\"],[1,\"#276419\"]]},\"xaxis\":{\"gridcolor\":\"white\",\"linecolor\":\"white\",\"ticks\":\"\",\"title\":{\"standoff\":15},\"zerolinecolor\":\"white\",\"automargin\":true,\"zerolinewidth\":2},\"yaxis\":{\"gridcolor\":\"white\",\"linecolor\":\"white\",\"ticks\":\"\",\"title\":{\"standoff\":15},\"zerolinecolor\":\"white\",\"automargin\":true,\"zerolinewidth\":2},\"scene\":{\"xaxis\":{\"backgroundcolor\":\"#E5ECF6\",\"gridcolor\":\"white\",\"linecolor\":\"white\",\"showbackground\":true,\"ticks\":\"\",\"zerolinecolor\":\"white\",\"gridwidth\":2},\"yaxis\":{\"backgroundcolor\":\"#E5ECF6\",\"gridcolor\":\"white\",\"linecolor\":\"white\",\"showbackground\":true,\"ticks\":\"\",\"zerolinecolor\":\"white\",\"gridwidth\":2},\"zaxis\":{\"backgroundcolor\":\"#E5ECF6\",\"gridcolor\":\"white\",\"linecolor\":\"white\",\"showbackground\":true,\"ticks\":\"\",\"zerolinecolor\":\"white\",\"gridwidth\":2}},\"shapedefaults\":{\"line\":{\"color\":\"#2a3f5f\"}},\"annotationdefaults\":{\"arrowcolor\":\"#2a3f5f\",\"arrowhead\":0,\"arrowwidth\":1},\"geo\":{\"bgcolor\":\"white\",\"landcolor\":\"#E5ECF6\",\"subunitcolor\":\"white\",\"showland\":true,\"showlakes\":true,\"lakecolor\":\"white\"},\"title\":{\"x\":0.05},\"mapbox\":{\"style\":\"light\"}}},\"legend\":{\"orientation\":\"h\",\"yanchor\":\"bottom\"},\"margin\":{\"l\":0,\"r\":0,\"t\":0,\"b\":0},\"xaxis\":{\"range\":[-1,1],\"tickmode\":\"linear\",\"dtick\":0.2},\"height\":870,\"width\":720,\"bargap\":0.5,\"font\":{\"family\":\"Times New Roman\",\"size\":16}},                        {\"responsive\": true}                    ).then(function(){\n",
       "                            \n",
       "var gd = document.getElementById('081f8444-bedf-43a2-8765-4a151209c3cc');\n",
       "var x = new MutationObserver(function (mutations, observer) {{\n",
       "        var display = window.getComputedStyle(gd).display;\n",
       "        if (!display || display === 'none') {{\n",
       "            console.log([gd, 'removed!']);\n",
       "            Plotly.purge(gd);\n",
       "            observer.disconnect();\n",
       "        }}\n",
       "}});\n",
       "\n",
       "// Listen for the removal of the full notebook cells\n",
       "var notebookContainer = gd.closest('#notebook-container');\n",
       "if (notebookContainer) {{\n",
       "    x.observe(notebookContainer, {childList: true});\n",
       "}}\n",
       "\n",
       "// Listen for the clearing of the current output cell\n",
       "var outputEl = gd.closest('.output');\n",
       "if (outputEl) {{\n",
       "    x.observe(outputEl, {childList: true});\n",
       "}}\n",
       "\n",
       "                        })                };                });            </script>        </div>"
      ]
     },
     "metadata": {},
     "output_type": "display_data"
    }
   ],
   "source": [
    "fig = plotly.graph_objects.Figure()\n",
    "\n",
    "ORDER = np.argsort(Imp_demucs)\n",
    "FEATURES = [FEATURE_NAMES[i].split(\"_\")[0] for i in ORDER]\n",
    "\n",
    "fig.add_trace(\n",
    "    trace = plotly.graph_objects.Bar(\n",
    "        y=FEATURES, \n",
    "        x=Imp_demucs[ORDER], \n",
    "        orientation='h', name=\"Demucs Improvement Over Noisy\"))\n",
    "\n",
    "\n",
    "fig.add_trace(\n",
    "    trace = plotly.graph_objects.Bar(\n",
    "        y=FEATURES, \n",
    "        x=Imp_fullsubnet[ORDER], \n",
    "        orientation='h', name=\"FullSubNet Improvement Over Noisy\"))\n",
    "\n",
    "\n",
    "HEIGHT = 290\n",
    "WIDTH  = 240\n",
    "fig.update_layout(\n",
    "    height = 3*HEIGHT, \n",
    "    width  = 3*WIDTH,\n",
    "    legend=dict(orientation=\"h\", yanchor=\"bottom\"),\n",
    "    margin = dict(l=0, r=0, t=0, b=0),\n",
    "    bargap = 0.50, \n",
    "    xaxis_range=[-1,1],\n",
    "    xaxis=dict(tickmode='linear', dtick=0.2))\n",
    "\n",
    "FONT_FAMILY = \"Times New Roman\"\n",
    "FONT_SIZE   = 8\n",
    "\n",
    "keys = list(locals().keys())\n",
    "for l in keys:\n",
    "    if l[:3] == 'fig':\n",
    "        locals()[l].update_layout(font_family=FONT_FAMILY, font_size = 2*FONT_SIZE)\n",
    "\n",
    "\n",
    "fig.show()"
   ]
  },
  {
   "cell_type": "code",
   "execution_count": null,
   "metadata": {},
   "outputs": [],
   "source": []
  }
 ],
 "metadata": {
  "kernelspec": {
   "display_name": "Python 3.8.13",
   "language": "python",
   "name": "python3"
  },
  "language_info": {
   "codemirror_mode": {
    "name": "ipython",
    "version": 3
   },
   "file_extension": ".py",
   "mimetype": "text/x-python",
   "name": "python",
   "nbconvert_exporter": "python",
   "pygments_lexer": "ipython3",
   "version": "3.8.13"
  },
  "orig_nbformat": 4,
  "vscode": {
   "interpreter": {
    "hash": "4240ea2ad2b14635208500249ce08af07aea6fb327ada44767c5d03b07724d82"
   }
  }
 },
 "nbformat": 4,
 "nbformat_minor": 2
}
