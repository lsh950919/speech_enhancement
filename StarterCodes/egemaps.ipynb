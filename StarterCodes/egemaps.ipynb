{
 "cells": [
  {
   "cell_type": "code",
   "execution_count": 1,
   "metadata": {},
   "outputs": [],
   "source": [
    "import opensmile\n",
    "from glob import glob\n",
    "from tqdm import tqdm\n",
    "import pandas as pd"
   ]
  },
  {
   "cell_type": "markdown",
   "metadata": {},
   "source": [
    "# eGeMAPS\n",
    "Function below takes two arguments:\n",
    "1. <b>audio_files_path</b>: path to directory of audio files\n",
    "2. <b>level</b>: which feature level to use (f for Functionals, l for LowLevelDescriptors)\n",
    "\n",
    "Output: DataFrame with audio file path as index and 88 features"
   ]
  },
  {
   "cell_type": "code",
   "execution_count": 8,
   "metadata": {},
   "outputs": [],
   "source": [
    "def egemaps(audio_files_path, level):\n",
    "    if level == 'f':\n",
    "        smile = opensmile.Smile(\n",
    "            feature_set=opensmile.FeatureSet.eGeMAPSv02,\n",
    "            feature_level=opensmile.FeatureLevel.Functionals,\n",
    "        )\n",
    "    elif level == 'l':\n",
    "        smile = opensmile.Smile(\n",
    "            feature_set=opensmile.FeatureSet.eGeMAPSv02,\n",
    "            feature_level=opensmile.FeatureLevel.LowLevelDescriptors,\n",
    "        )\n",
    "    \n",
    "    if not audio_files_path.endswith('/*'):\n",
    "        audio_files_path += '/*'\n",
    "    files = glob(audio_files_path)\n",
    "    \n",
    "    result = smile.process_files(files)\n",
    "\n",
    "    return result"
   ]
  },
  {
   "cell_type": "code",
   "execution_count": 4,
   "metadata": {},
   "outputs": [],
   "source": [
    "clean_dir = '/Users/brianlim/Desktop/files/cmu/intro_to_dl/project/enhanced/clean/*'\n",
    "noisy_dir = '/Users/brianlim/Desktop/files/cmu/intro_to_dl/project/enhanced/noisy/*'\n",
    "demucs_dir = '/Users/brianlim/Desktop/files/cmu/intro_to_dl/project/enhanced/Demucs_denoised/*'\n",
    "fullsub_dir = '/Users/brianlim/Desktop/files/cmu/intro_to_dl/project/enhanced/enhanced_FullSubNet/*'"
   ]
  },
  {
   "cell_type": "code",
   "execution_count": 13,
   "metadata": {},
   "outputs": [],
   "source": [
    "import os\n",
    "DATA_DIR = \"/home/ubuntu/efs/IntroDL/denoiser/dataset\"\n",
    "CLEAN_DIR = os.path.join(DATA_DIR, \"starter_clean/clean\")\n",
    "NOISY_DIR = os.path.join(DATA_DIR, \"starter_noisy/noisy\")\n",
    "DEMUCS_DIR = \"/home/ubuntu/efs/IntroDL/denoiser/results/Demucs_denoised\"\n"
   ]
  },
  {
   "cell_type": "code",
   "execution_count": 14,
   "metadata": {},
   "outputs": [],
   "source": [
    "clean_dir = CLEAN_DIR + \"/*\"\n",
    "noisy_dir = NOISY_DIR + \"/*\"\n",
    "demucs_dir = DEMUCS_DIR + \"/*\""
   ]
  },
  {
   "cell_type": "code",
   "execution_count": 15,
   "metadata": {},
   "outputs": [],
   "source": [
    "clean_f = egemaps(clean_dir, 'f')\n",
    "clean_l = egemaps(clean_dir, 'l')\n",
    "noisy_f = egemaps(noisy_dir, 'f')\n",
    "noisy_l = egemaps(noisy_dir, 'l')\n",
    "demucs_f = egemaps(demucs_dir, 'f')\n",
    "demucs_l = egemaps(demucs_dir, 'l')\n",
    "# fullsub_f = egemaps(fullsub_dir, 'f')\n",
    "# fullsub_l = egemaps(fullsub_dir, 'l')"
   ]
  },
  {
   "cell_type": "code",
   "execution_count": 16,
   "metadata": {},
   "outputs": [],
   "source": [
    "import numpy as np"
   ]
  },
  {
   "cell_type": "code",
   "execution_count": 19,
   "metadata": {},
   "outputs": [],
   "source": [
    "noisy_mae = np.mean(np.abs(noisy_l.to_numpy() - clean_l.to_numpy()), axis = 0)\n",
    "demucs_mae = np.mean(np.abs(demucs_l.to_numpy() - clean_l.to_numpy()), axis = 0)\n",
    "# fullsub_mae = np.mean(np.abs(fullsub_l.to_numpy() - clean_l.to_numpy()), axis = 0)"
   ]
  },
  {
   "cell_type": "code",
   "execution_count": 20,
   "metadata": {},
   "outputs": [
    {
     "data": {
      "text/plain": [
       "Index(['Loudness_sma3', 'alphaRatio_sma3', 'hammarbergIndex_sma3',\n",
       "       'slope0-500_sma3', 'slope500-1500_sma3', 'spectralFlux_sma3',\n",
       "       'mfcc1_sma3', 'mfcc2_sma3', 'mfcc3_sma3', 'mfcc4_sma3',\n",
       "       'F0semitoneFrom27.5Hz_sma3nz', 'jitterLocal_sma3nz',\n",
       "       'shimmerLocaldB_sma3nz', 'HNRdBACF_sma3nz', 'logRelF0-H1-H2_sma3nz',\n",
       "       'logRelF0-H1-A3_sma3nz', 'F1frequency_sma3nz', 'F1bandwidth_sma3nz',\n",
       "       'F1amplitudeLogRelF0_sma3nz', 'F2frequency_sma3nz',\n",
       "       'F2bandwidth_sma3nz', 'F2amplitudeLogRelF0_sma3nz',\n",
       "       'F3frequency_sma3nz', 'F3bandwidth_sma3nz',\n",
       "       'F3amplitudeLogRelF0_sma3nz'],\n",
       "      dtype='object')"
      ]
     },
     "execution_count": 20,
     "metadata": {},
     "output_type": "execute_result"
    }
   ],
   "source": [
    "noisy_l.columns"
   ]
  },
  {
   "cell_type": "code",
   "execution_count": 21,
   "metadata": {},
   "outputs": [
    {
     "data": {
      "text/html": [
       "<div>\n",
       "<style scoped>\n",
       "    .dataframe tbody tr th:only-of-type {\n",
       "        vertical-align: middle;\n",
       "    }\n",
       "\n",
       "    .dataframe tbody tr th {\n",
       "        vertical-align: top;\n",
       "    }\n",
       "\n",
       "    .dataframe thead th {\n",
       "        text-align: right;\n",
       "    }\n",
       "</style>\n",
       "<table border=\"1\" class=\"dataframe\">\n",
       "  <thead>\n",
       "    <tr style=\"text-align: right;\">\n",
       "      <th></th>\n",
       "      <th>Loudness_sma3</th>\n",
       "      <th>alphaRatio_sma3</th>\n",
       "      <th>hammarbergIndex_sma3</th>\n",
       "      <th>slope0-500_sma3</th>\n",
       "      <th>slope500-1500_sma3</th>\n",
       "      <th>spectralFlux_sma3</th>\n",
       "      <th>mfcc1_sma3</th>\n",
       "      <th>mfcc2_sma3</th>\n",
       "      <th>mfcc3_sma3</th>\n",
       "      <th>mfcc4_sma3</th>\n",
       "      <th>...</th>\n",
       "      <th>logRelF0-H1-A3_sma3nz</th>\n",
       "      <th>F1frequency_sma3nz</th>\n",
       "      <th>F1bandwidth_sma3nz</th>\n",
       "      <th>F1amplitudeLogRelF0_sma3nz</th>\n",
       "      <th>F2frequency_sma3nz</th>\n",
       "      <th>F2bandwidth_sma3nz</th>\n",
       "      <th>F2amplitudeLogRelF0_sma3nz</th>\n",
       "      <th>F3frequency_sma3nz</th>\n",
       "      <th>F3bandwidth_sma3nz</th>\n",
       "      <th>F3amplitudeLogRelF0_sma3nz</th>\n",
       "    </tr>\n",
       "  </thead>\n",
       "  <tbody>\n",
       "    <tr>\n",
       "      <th>0</th>\n",
       "      <td>0.47162</td>\n",
       "      <td>11.192012</td>\n",
       "      <td>13.372391</td>\n",
       "      <td>0.043161</td>\n",
       "      <td>0.024067</td>\n",
       "      <td>0.24562</td>\n",
       "      <td>19.562346</td>\n",
       "      <td>14.963029</td>\n",
       "      <td>17.576757</td>\n",
       "      <td>16.84149</td>\n",
       "      <td>...</td>\n",
       "      <td>14.217477</td>\n",
       "      <td>273.684296</td>\n",
       "      <td>313.128387</td>\n",
       "      <td>96.646179</td>\n",
       "      <td>339.350647</td>\n",
       "      <td>351.028687</td>\n",
       "      <td>90.963844</td>\n",
       "      <td>407.804779</td>\n",
       "      <td>352.755798</td>\n",
       "      <td>88.170807</td>\n",
       "    </tr>\n",
       "  </tbody>\n",
       "</table>\n",
       "<p>1 rows × 25 columns</p>\n",
       "</div>"
      ],
      "text/plain": [
       "   Loudness_sma3  alphaRatio_sma3  hammarbergIndex_sma3  slope0-500_sma3  \\\n",
       "0        0.47162        11.192012             13.372391         0.043161   \n",
       "\n",
       "   slope500-1500_sma3  spectralFlux_sma3  mfcc1_sma3  mfcc2_sma3  mfcc3_sma3  \\\n",
       "0            0.024067            0.24562   19.562346   14.963029   17.576757   \n",
       "\n",
       "   mfcc4_sma3  ...  logRelF0-H1-A3_sma3nz  F1frequency_sma3nz  \\\n",
       "0    16.84149  ...              14.217477          273.684296   \n",
       "\n",
       "   F1bandwidth_sma3nz  F1amplitudeLogRelF0_sma3nz  F2frequency_sma3nz  \\\n",
       "0          313.128387                   96.646179          339.350647   \n",
       "\n",
       "   F2bandwidth_sma3nz  F2amplitudeLogRelF0_sma3nz  F3frequency_sma3nz  \\\n",
       "0          351.028687                   90.963844          407.804779   \n",
       "\n",
       "   F3bandwidth_sma3nz  F3amplitudeLogRelF0_sma3nz  \n",
       "0          352.755798                   88.170807  \n",
       "\n",
       "[1 rows x 25 columns]"
      ]
     },
     "execution_count": 21,
     "metadata": {},
     "output_type": "execute_result"
    }
   ],
   "source": [
    "noisy_df = pd.DataFrame(columns = noisy_l.columns)\n",
    "noisy_df.loc[0] = noisy_mae\n",
    "noisy_df"
   ]
  },
  {
   "cell_type": "code",
   "execution_count": 22,
   "metadata": {},
   "outputs": [
    {
     "data": {
      "text/html": [
       "<div>\n",
       "<style scoped>\n",
       "    .dataframe tbody tr th:only-of-type {\n",
       "        vertical-align: middle;\n",
       "    }\n",
       "\n",
       "    .dataframe tbody tr th {\n",
       "        vertical-align: top;\n",
       "    }\n",
       "\n",
       "    .dataframe thead th {\n",
       "        text-align: right;\n",
       "    }\n",
       "</style>\n",
       "<table border=\"1\" class=\"dataframe\">\n",
       "  <thead>\n",
       "    <tr style=\"text-align: right;\">\n",
       "      <th></th>\n",
       "      <th>Loudness_sma3</th>\n",
       "      <th>alphaRatio_sma3</th>\n",
       "      <th>hammarbergIndex_sma3</th>\n",
       "      <th>slope0-500_sma3</th>\n",
       "      <th>slope500-1500_sma3</th>\n",
       "      <th>spectralFlux_sma3</th>\n",
       "      <th>mfcc1_sma3</th>\n",
       "      <th>mfcc2_sma3</th>\n",
       "      <th>mfcc3_sma3</th>\n",
       "      <th>mfcc4_sma3</th>\n",
       "      <th>...</th>\n",
       "      <th>logRelF0-H1-A3_sma3nz</th>\n",
       "      <th>F1frequency_sma3nz</th>\n",
       "      <th>F1bandwidth_sma3nz</th>\n",
       "      <th>F1amplitudeLogRelF0_sma3nz</th>\n",
       "      <th>F2frequency_sma3nz</th>\n",
       "      <th>F2bandwidth_sma3nz</th>\n",
       "      <th>F2amplitudeLogRelF0_sma3nz</th>\n",
       "      <th>F3frequency_sma3nz</th>\n",
       "      <th>F3bandwidth_sma3nz</th>\n",
       "      <th>F3amplitudeLogRelF0_sma3nz</th>\n",
       "    </tr>\n",
       "  </thead>\n",
       "  <tbody>\n",
       "    <tr>\n",
       "      <th>0</th>\n",
       "      <td>0.442246</td>\n",
       "      <td>13.168432</td>\n",
       "      <td>15.47497</td>\n",
       "      <td>0.036879</td>\n",
       "      <td>0.027447</td>\n",
       "      <td>0.218076</td>\n",
       "      <td>22.943317</td>\n",
       "      <td>15.664083</td>\n",
       "      <td>18.427799</td>\n",
       "      <td>17.280384</td>\n",
       "      <td>...</td>\n",
       "      <td>15.773613</td>\n",
       "      <td>269.181915</td>\n",
       "      <td>338.931854</td>\n",
       "      <td>96.318138</td>\n",
       "      <td>348.730804</td>\n",
       "      <td>364.419708</td>\n",
       "      <td>90.021942</td>\n",
       "      <td>428.003754</td>\n",
       "      <td>361.661316</td>\n",
       "      <td>86.977707</td>\n",
       "    </tr>\n",
       "  </tbody>\n",
       "</table>\n",
       "<p>1 rows × 25 columns</p>\n",
       "</div>"
      ],
      "text/plain": [
       "   Loudness_sma3  alphaRatio_sma3  hammarbergIndex_sma3  slope0-500_sma3  \\\n",
       "0       0.442246        13.168432              15.47497         0.036879   \n",
       "\n",
       "   slope500-1500_sma3  spectralFlux_sma3  mfcc1_sma3  mfcc2_sma3  mfcc3_sma3  \\\n",
       "0            0.027447           0.218076   22.943317   15.664083   18.427799   \n",
       "\n",
       "   mfcc4_sma3  ...  logRelF0-H1-A3_sma3nz  F1frequency_sma3nz  \\\n",
       "0   17.280384  ...              15.773613          269.181915   \n",
       "\n",
       "   F1bandwidth_sma3nz  F1amplitudeLogRelF0_sma3nz  F2frequency_sma3nz  \\\n",
       "0          338.931854                   96.318138          348.730804   \n",
       "\n",
       "   F2bandwidth_sma3nz  F2amplitudeLogRelF0_sma3nz  F3frequency_sma3nz  \\\n",
       "0          364.419708                   90.021942          428.003754   \n",
       "\n",
       "   F3bandwidth_sma3nz  F3amplitudeLogRelF0_sma3nz  \n",
       "0          361.661316                   86.977707  \n",
       "\n",
       "[1 rows x 25 columns]"
      ]
     },
     "execution_count": 22,
     "metadata": {},
     "output_type": "execute_result"
    }
   ],
   "source": [
    "demucs_df = pd.DataFrame(columns = demucs_l.columns)\n",
    "demucs_df.loc[0] = demucs_mae\n",
    "demucs_df"
   ]
  },
  {
   "cell_type": "code",
   "execution_count": 23,
   "metadata": {},
   "outputs": [],
   "source": [
    "# fullsub_df = pd.DataFrame(columns = fullsub_l.columns)\n",
    "# fullsub_df.loc[0] = fullsub_mae\n",
    "# fullsub_df"
   ]
  },
  {
   "cell_type": "code",
   "execution_count": 25,
   "metadata": {},
   "outputs": [
    {
     "data": {
      "text/plain": [
       "Index(['F0semitoneFrom27.5Hz_sma3nz_amean',\n",
       "       'F0semitoneFrom27.5Hz_sma3nz_stddevNorm',\n",
       "       'F0semitoneFrom27.5Hz_sma3nz_percentile20.0',\n",
       "       'F0semitoneFrom27.5Hz_sma3nz_percentile50.0',\n",
       "       'F0semitoneFrom27.5Hz_sma3nz_percentile80.0',\n",
       "       'F0semitoneFrom27.5Hz_sma3nz_pctlrange0-2',\n",
       "       'F0semitoneFrom27.5Hz_sma3nz_meanRisingSlope',\n",
       "       'F0semitoneFrom27.5Hz_sma3nz_stddevRisingSlope',\n",
       "       'F0semitoneFrom27.5Hz_sma3nz_meanFallingSlope',\n",
       "       'F0semitoneFrom27.5Hz_sma3nz_stddevFallingSlope', 'loudness_sma3_amean',\n",
       "       'loudness_sma3_stddevNorm', 'loudness_sma3_percentile20.0',\n",
       "       'loudness_sma3_percentile50.0', 'loudness_sma3_percentile80.0',\n",
       "       'loudness_sma3_pctlrange0-2', 'loudness_sma3_meanRisingSlope',\n",
       "       'loudness_sma3_stddevRisingSlope', 'loudness_sma3_meanFallingSlope',\n",
       "       'loudness_sma3_stddevFallingSlope', 'spectralFlux_sma3_amean',\n",
       "       'spectralFlux_sma3_stddevNorm', 'mfcc1_sma3_amean',\n",
       "       'mfcc1_sma3_stddevNorm', 'mfcc2_sma3_amean', 'mfcc2_sma3_stddevNorm',\n",
       "       'mfcc3_sma3_amean', 'mfcc3_sma3_stddevNorm', 'mfcc4_sma3_amean',\n",
       "       'mfcc4_sma3_stddevNorm', 'jitterLocal_sma3nz_amean',\n",
       "       'jitterLocal_sma3nz_stddevNorm', 'shimmerLocaldB_sma3nz_amean',\n",
       "       'shimmerLocaldB_sma3nz_stddevNorm', 'HNRdBACF_sma3nz_amean',\n",
       "       'HNRdBACF_sma3nz_stddevNorm', 'logRelF0-H1-H2_sma3nz_amean',\n",
       "       'logRelF0-H1-H2_sma3nz_stddevNorm', 'logRelF0-H1-A3_sma3nz_amean',\n",
       "       'logRelF0-H1-A3_sma3nz_stddevNorm', 'F1frequency_sma3nz_amean',\n",
       "       'F1frequency_sma3nz_stddevNorm', 'F1bandwidth_sma3nz_amean',\n",
       "       'F1bandwidth_sma3nz_stddevNorm', 'F1amplitudeLogRelF0_sma3nz_amean',\n",
       "       'F1amplitudeLogRelF0_sma3nz_stddevNorm', 'F2frequency_sma3nz_amean',\n",
       "       'F2frequency_sma3nz_stddevNorm', 'F2bandwidth_sma3nz_amean',\n",
       "       'F2bandwidth_sma3nz_stddevNorm', 'F2amplitudeLogRelF0_sma3nz_amean',\n",
       "       'F2amplitudeLogRelF0_sma3nz_stddevNorm', 'F3frequency_sma3nz_amean',\n",
       "       'F3frequency_sma3nz_stddevNorm', 'F3bandwidth_sma3nz_amean',\n",
       "       'F3bandwidth_sma3nz_stddevNorm', 'F3amplitudeLogRelF0_sma3nz_amean',\n",
       "       'F3amplitudeLogRelF0_sma3nz_stddevNorm', 'alphaRatioV_sma3nz_amean',\n",
       "       'alphaRatioV_sma3nz_stddevNorm', 'hammarbergIndexV_sma3nz_amean',\n",
       "       'hammarbergIndexV_sma3nz_stddevNorm', 'slopeV0-500_sma3nz_amean',\n",
       "       'slopeV0-500_sma3nz_stddevNorm', 'slopeV500-1500_sma3nz_amean',\n",
       "       'slopeV500-1500_sma3nz_stddevNorm', 'spectralFluxV_sma3nz_amean',\n",
       "       'spectralFluxV_sma3nz_stddevNorm', 'mfcc1V_sma3nz_amean',\n",
       "       'mfcc1V_sma3nz_stddevNorm', 'mfcc2V_sma3nz_amean',\n",
       "       'mfcc2V_sma3nz_stddevNorm', 'mfcc3V_sma3nz_amean',\n",
       "       'mfcc3V_sma3nz_stddevNorm', 'mfcc4V_sma3nz_amean',\n",
       "       'mfcc4V_sma3nz_stddevNorm', 'alphaRatioUV_sma3nz_amean',\n",
       "       'hammarbergIndexUV_sma3nz_amean', 'slopeUV0-500_sma3nz_amean',\n",
       "       'slopeUV500-1500_sma3nz_amean', 'spectralFluxUV_sma3nz_amean',\n",
       "       'loudnessPeaksPerSec', 'VoicedSegmentsPerSec',\n",
       "       'MeanVoicedSegmentLengthSec', 'StddevVoicedSegmentLengthSec',\n",
       "       'MeanUnvoicedSegmentLength', 'StddevUnvoicedSegmentLength',\n",
       "       'equivalentSoundLevel_dBp'],\n",
       "      dtype='object')"
      ]
     },
     "execution_count": 25,
     "metadata": {},
     "output_type": "execute_result"
    }
   ],
   "source": [
    "clean_f.columns"
   ]
  },
  {
   "cell_type": "code",
   "execution_count": null,
   "metadata": {},
   "outputs": [],
   "source": []
  }
 ],
 "metadata": {
  "kernelspec": {
   "display_name": "Python 3.8.13",
   "language": "python",
   "name": "python3"
  },
  "language_info": {
   "codemirror_mode": {
    "name": "ipython",
    "version": 3
   },
   "file_extension": ".py",
   "mimetype": "text/x-python",
   "name": "python",
   "nbconvert_exporter": "python",
   "pygments_lexer": "ipython3",
   "version": "3.8.13"
  },
  "orig_nbformat": 4,
  "vscode": {
   "interpreter": {
    "hash": "4240ea2ad2b14635208500249ce08af07aea6fb327ada44767c5d03b07724d82"
   }
  }
 },
 "nbformat": 4,
 "nbformat_minor": 2
}
