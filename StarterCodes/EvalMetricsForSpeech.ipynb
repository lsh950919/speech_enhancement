{
 "cells": [
  {
   "cell_type": "code",
   "execution_count": 33,
   "metadata": {},
   "outputs": [
    {
     "name": "stdout",
     "output_type": "stream",
     "text": [
      "Collecting https://github.com/schmiph2/pysepm/archive/master.zip\n",
      "  Using cached https://github.com/schmiph2/pysepm/archive/master.zip\n",
      "  Installing build dependencies ... \u001b[?25ldone\n",
      "\u001b[?25h  Getting requirements to build wheel ... \u001b[?25ldone\n",
      "\u001b[?25h  Preparing metadata (pyproject.toml) ... \u001b[?25ldone\n",
      "\u001b[?25hCollecting SRMRpy@ https://github.com/jfsantos/SRMRpy/archive/master.zip#egg=SRMRpy\n",
      "  Using cached https://github.com/jfsantos/SRMRpy/archive/master.zip\n",
      "  Preparing metadata (setup.py) ... \u001b[?25ldone\n",
      "\u001b[?25hCollecting pesq@ https://github.com/ludlows/python-pesq/archive/master.zip#egg=pesq\n",
      "  Using cached https://github.com/ludlows/python-pesq/archive/master.zip\n",
      "  Preparing metadata (setup.py) ... \u001b[?25ldone\n",
      "\u001b[?25hRequirement already satisfied: numpy in /home/ubuntu/efs/IntroDL/DeMucs/lib/python3.8/site-packages (from pysepm==0.1) (1.23.4)\n",
      "Requirement already satisfied: numba in /home/ubuntu/efs/IntroDL/DeMucs/lib/python3.8/site-packages (from pysepm==0.1) (0.56.3)\n",
      "Requirement already satisfied: pystoi in /home/ubuntu/efs/IntroDL/DeMucs/lib/python3.8/site-packages (from pysepm==0.1) (0.3.3)\n",
      "Requirement already satisfied: scipy in /home/ubuntu/efs/IntroDL/DeMucs/lib/python3.8/site-packages (from pysepm==0.1) (1.9.3)\n",
      "Requirement already satisfied: setuptools in /home/ubuntu/efs/IntroDL/DeMucs/lib/python3.8/site-packages (from numba->pysepm==0.1) (65.5.0)\n",
      "Requirement already satisfied: importlib-metadata in /home/ubuntu/efs/IntroDL/DeMucs/lib/python3.8/site-packages (from numba->pysepm==0.1) (5.0.0)\n",
      "Requirement already satisfied: llvmlite<0.40,>=0.39.0dev0 in /home/ubuntu/efs/IntroDL/DeMucs/lib/python3.8/site-packages (from numba->pysepm==0.1) (0.39.1)\n",
      "Collecting Gammatone@ https://github.com/detly/gammatone/archive/master.zip#egg=Gammatone\n",
      "  Using cached https://github.com/detly/gammatone/archive/master.zip\n",
      "  Preparing metadata (setup.py) ... \u001b[?25ldone\n",
      "\u001b[?25hRequirement already satisfied: nose in /home/ubuntu/efs/IntroDL/DeMucs/lib/python3.8/site-packages (from Gammatone@ https://github.com/detly/gammatone/archive/master.zip#egg=Gammatone->SRMRpy@ https://github.com/jfsantos/SRMRpy/archive/master.zip#egg=SRMRpy->pysepm==0.1) (1.3.7)\n",
      "Requirement already satisfied: mock in /home/ubuntu/efs/IntroDL/DeMucs/lib/python3.8/site-packages (from Gammatone@ https://github.com/detly/gammatone/archive/master.zip#egg=Gammatone->SRMRpy@ https://github.com/jfsantos/SRMRpy/archive/master.zip#egg=SRMRpy->pysepm==0.1) (4.0.3)\n",
      "Requirement already satisfied: matplotlib in /home/ubuntu/efs/IntroDL/DeMucs/lib/python3.8/site-packages (from Gammatone@ https://github.com/detly/gammatone/archive/master.zip#egg=Gammatone->SRMRpy@ https://github.com/jfsantos/SRMRpy/archive/master.zip#egg=SRMRpy->pysepm==0.1) (3.6.1)\n",
      "Requirement already satisfied: zipp>=0.5 in /home/ubuntu/efs/IntroDL/DeMucs/lib/python3.8/site-packages (from importlib-metadata->numba->pysepm==0.1) (3.10.0)\n",
      "Requirement already satisfied: python-dateutil>=2.7 in /home/ubuntu/efs/IntroDL/DeMucs/lib/python3.8/site-packages (from matplotlib->Gammatone@ https://github.com/detly/gammatone/archive/master.zip#egg=Gammatone->SRMRpy@ https://github.com/jfsantos/SRMRpy/archive/master.zip#egg=SRMRpy->pysepm==0.1) (2.8.2)\n",
      "Requirement already satisfied: kiwisolver>=1.0.1 in /home/ubuntu/efs/IntroDL/DeMucs/lib/python3.8/site-packages (from matplotlib->Gammatone@ https://github.com/detly/gammatone/archive/master.zip#egg=Gammatone->SRMRpy@ https://github.com/jfsantos/SRMRpy/archive/master.zip#egg=SRMRpy->pysepm==0.1) (1.4.4)\n",
      "Requirement already satisfied: packaging>=20.0 in /home/ubuntu/efs/IntroDL/DeMucs/lib/python3.8/site-packages (from matplotlib->Gammatone@ https://github.com/detly/gammatone/archive/master.zip#egg=Gammatone->SRMRpy@ https://github.com/jfsantos/SRMRpy/archive/master.zip#egg=SRMRpy->pysepm==0.1) (21.3)\n",
      "Requirement already satisfied: contourpy>=1.0.1 in /home/ubuntu/efs/IntroDL/DeMucs/lib/python3.8/site-packages (from matplotlib->Gammatone@ https://github.com/detly/gammatone/archive/master.zip#egg=Gammatone->SRMRpy@ https://github.com/jfsantos/SRMRpy/archive/master.zip#egg=SRMRpy->pysepm==0.1) (1.0.6)\n",
      "Requirement already satisfied: cycler>=0.10 in /home/ubuntu/efs/IntroDL/DeMucs/lib/python3.8/site-packages (from matplotlib->Gammatone@ https://github.com/detly/gammatone/archive/master.zip#egg=Gammatone->SRMRpy@ https://github.com/jfsantos/SRMRpy/archive/master.zip#egg=SRMRpy->pysepm==0.1) (0.11.0)\n",
      "Requirement already satisfied: pyparsing>=2.2.1 in /home/ubuntu/efs/IntroDL/DeMucs/lib/python3.8/site-packages (from matplotlib->Gammatone@ https://github.com/detly/gammatone/archive/master.zip#egg=Gammatone->SRMRpy@ https://github.com/jfsantos/SRMRpy/archive/master.zip#egg=SRMRpy->pysepm==0.1) (3.0.9)\n",
      "Requirement already satisfied: fonttools>=4.22.0 in /home/ubuntu/efs/IntroDL/DeMucs/lib/python3.8/site-packages (from matplotlib->Gammatone@ https://github.com/detly/gammatone/archive/master.zip#egg=Gammatone->SRMRpy@ https://github.com/jfsantos/SRMRpy/archive/master.zip#egg=SRMRpy->pysepm==0.1) (4.38.0)\n",
      "Requirement already satisfied: pillow>=6.2.0 in /home/ubuntu/efs/IntroDL/DeMucs/lib/python3.8/site-packages (from matplotlib->Gammatone@ https://github.com/detly/gammatone/archive/master.zip#egg=Gammatone->SRMRpy@ https://github.com/jfsantos/SRMRpy/archive/master.zip#egg=SRMRpy->pysepm==0.1) (9.2.0)\n",
      "Requirement already satisfied: six>=1.5 in /home/ubuntu/efs/IntroDL/DeMucs/lib/python3.8/site-packages (from python-dateutil>=2.7->matplotlib->Gammatone@ https://github.com/detly/gammatone/archive/master.zip#egg=Gammatone->SRMRpy@ https://github.com/jfsantos/SRMRpy/archive/master.zip#egg=SRMRpy->pysepm==0.1) (1.16.0)\n"
     ]
    }
   ],
   "source": [
    "!python -m pip install https://github.com/schmiph2/pysepm/archive/master.zip"
   ]
  },
  {
   "cell_type": "code",
   "execution_count": 34,
   "metadata": {},
   "outputs": [],
   "source": [
    "import sys\n",
    "sys.path.append('../../')"
   ]
  },
  {
   "cell_type": "code",
   "execution_count": 35,
   "metadata": {},
   "outputs": [],
   "source": [
    "import pysepm"
   ]
  },
  {
   "cell_type": "code",
   "execution_count": 36,
   "metadata": {},
   "outputs": [],
   "source": [
    "import torch\n",
    "import torchaudio\n",
    "from denoiser.denoiser import pretrained\n",
    "from denoiser.denoiser.dsp import convert_audio\n"
   ]
  },
  {
   "cell_type": "code",
   "execution_count": 37,
   "metadata": {},
   "outputs": [],
   "source": [
    "import os\n",
    "from glob import glob"
   ]
  },
  {
   "cell_type": "code",
   "execution_count": 38,
   "metadata": {},
   "outputs": [],
   "source": [
    "# from scipy.io import wavfile\n",
    "# # import sys\n",
    "# # sys.path.append(\"../\") \n",
    "\n"
   ]
  },
  {
   "cell_type": "markdown",
   "metadata": {},
   "source": [
    "# Load Audio Files"
   ]
  },
  {
   "cell_type": "code",
   "execution_count": 39,
   "metadata": {},
   "outputs": [],
   "source": [
    "DATA_DIR = \"/home/ubuntu/efs/IntroDL/denoiser/dataset\"\n",
    "CLEAN_DIR = os.path.join(DATA_DIR, \"starter_clean/clean\")\n",
    "NOISY_DIR = os.path.join(DATA_DIR, \"starter_noisy/noisy\")\n",
    "\n"
   ]
  },
  {
   "cell_type": "code",
   "execution_count": 40,
   "metadata": {},
   "outputs": [],
   "source": [
    "clean_files = sorted(glob(CLEAN_DIR + \"/*\"))\n",
    "noisy_files = sorted(glob(NOISY_DIR + \"/*\"))"
   ]
  },
  {
   "cell_type": "markdown",
   "metadata": {},
   "source": [
    "`clean_files` and `noisy_files` does not have same order of files ; i.e. the i-th file of `clean_files` does not correspond to the i-th files of `noisy_files`. Hence, we should make the file id of the i-th file of `clean_files` and `noisy_files` correspond to each other. "
   ]
  },
  {
   "cell_type": "code",
   "execution_count": 41,
   "metadata": {},
   "outputs": [
    {
     "name": "stdout",
     "output_type": "stream",
     "text": [
      "142.wav\n"
     ]
    }
   ],
   "source": [
    "i = 100\n",
    "name = os.path.basename(noisy_files[i]).split('_')[-1]\n",
    "print(name)"
   ]
  },
  {
   "cell_type": "code",
   "execution_count": 42,
   "metadata": {},
   "outputs": [],
   "source": [
    "clean_dict = {os.path.basename(name).split('_')[-1]:name for name in clean_files}\n",
    "noisy_dict = {os.path.basename(name).split('_')[-1]:name for name in noisy_files}\n"
   ]
  },
  {
   "cell_type": "code",
   "execution_count": 43,
   "metadata": {},
   "outputs": [
    {
     "name": "stdout",
     "output_type": "stream",
     "text": [
      "True\n",
      "True\n"
     ]
    }
   ],
   "source": [
    "print(len(clean_files) == len(noisy_files))\n",
    "print(set(clean_dict.keys()) == set(noisy_dict.keys()))\n",
    "# Check that the set of file id of clean files and noisy files are exactly the same"
   ]
  },
  {
   "cell_type": "code",
   "execution_count": 44,
   "metadata": {},
   "outputs": [],
   "source": [
    "clean_files = []\n",
    "noisy_files = []\n",
    "for fileid in clean_dict.keys() : \n",
    "    clean_files.append(clean_dict[fileid])\n",
    "    noisy_files.append(noisy_dict[fileid])\n"
   ]
  },
  {
   "cell_type": "code",
   "execution_count": 45,
   "metadata": {},
   "outputs": [
    {
     "name": "stdout",
     "output_type": "stream",
     "text": [
      "['/home/ubuntu/efs/IntroDL/denoiser/dataset/starter_noisy/noisy/clnsp126_3Wjw0nadnM4_snr15_tl-22_fileid_0.wav', '/home/ubuntu/efs/IntroDL/denoiser/dataset/starter_noisy/noisy/clnsp198_bus_56903_0_snr0_tl-32_fileid_101.wav', '/home/ubuntu/efs/IntroDL/denoiser/dataset/starter_noisy/noisy/clnsp535_washer_460549_1_snr2_tl-35_fileid_102.wav', '/home/ubuntu/efs/IntroDL/denoiser/dataset/starter_noisy/noisy/clnsp228_vacuum_379760_1_snr1_tl-19_fileid_104.wav', '/home/ubuntu/efs/IntroDL/denoiser/dataset/starter_noisy/noisy/clnsp591_clatter_noise_166453__zabuhailo__metalworking-hammer-5_5_snr9_tl-27_fileid_105.wav']\n",
      "['/home/ubuntu/efs/IntroDL/denoiser/dataset/starter_clean/clean/clean_fileid_0.wav', '/home/ubuntu/efs/IntroDL/denoiser/dataset/starter_clean/clean/clean_fileid_101.wav', '/home/ubuntu/efs/IntroDL/denoiser/dataset/starter_clean/clean/clean_fileid_102.wav', '/home/ubuntu/efs/IntroDL/denoiser/dataset/starter_clean/clean/clean_fileid_104.wav', '/home/ubuntu/efs/IntroDL/denoiser/dataset/starter_clean/clean/clean_fileid_105.wav']\n"
     ]
    }
   ],
   "source": [
    "print(noisy_files[:5])\n",
    "print(clean_files[:5])"
   ]
  },
  {
   "cell_type": "code",
   "execution_count": 46,
   "metadata": {},
   "outputs": [
    {
     "name": "stdout",
     "output_type": "stream",
     "text": [
      "['/home/ubuntu/efs/IntroDL/denoiser/dataset/starter_noisy/noisy/clnsp644_barking_25887_0_snr5_tl-28_fileid_89.wav', '/home/ubuntu/efs/IntroDL/denoiser/dataset/starter_noisy/noisy/clnsp81_car_74675_2_snr18_tl-22_fileid_9.wav', '/home/ubuntu/efs/IntroDL/denoiser/dataset/starter_noisy/noisy/clnsp177_0kuIP7fLNpM_snr6_tl-26_fileid_90.wav', '/home/ubuntu/efs/IntroDL/denoiser/dataset/starter_noisy/noisy/clnsp383_babble_188218_15_snr6_tl-18_fileid_94.wav', '/home/ubuntu/efs/IntroDL/denoiser/dataset/starter_noisy/noisy/clnsp219_wind_344887_0_snr10_tl-28_fileid_96.wav']\n",
      "['/home/ubuntu/efs/IntroDL/denoiser/dataset/starter_clean/clean/clean_fileid_89.wav', '/home/ubuntu/efs/IntroDL/denoiser/dataset/starter_clean/clean/clean_fileid_9.wav', '/home/ubuntu/efs/IntroDL/denoiser/dataset/starter_clean/clean/clean_fileid_90.wav', '/home/ubuntu/efs/IntroDL/denoiser/dataset/starter_clean/clean/clean_fileid_94.wav', '/home/ubuntu/efs/IntroDL/denoiser/dataset/starter_clean/clean/clean_fileid_96.wav']\n"
     ]
    }
   ],
   "source": [
    "print(noisy_files[-5:])\n",
    "print(clean_files[-5:])"
   ]
  },
  {
   "cell_type": "markdown",
   "metadata": {},
   "source": [
    "We have just checked that the order of files in the list are matched for `clean_files` and `noisy_files`."
   ]
  },
  {
   "cell_type": "code",
   "execution_count": 47,
   "metadata": {},
   "outputs": [],
   "source": [
    "clean_wav, clean_sr = torchaudio.load(clean_files[0])\n",
    "noisy_wav, noisy_sr = torchaudio.load(noisy_files[0])"
   ]
  },
  {
   "cell_type": "code",
   "execution_count": 48,
   "metadata": {},
   "outputs": [
    {
     "data": {
      "text/plain": [
       "tensor([[ 0.0731,  0.0881,  0.1040,  ..., -0.0025, -0.0023, -0.0017]])"
      ]
     },
     "execution_count": 48,
     "metadata": {},
     "output_type": "execute_result"
    }
   ],
   "source": [
    "clean_wav"
   ]
  },
  {
   "cell_type": "code",
   "execution_count": 49,
   "metadata": {},
   "outputs": [
    {
     "data": {
      "text/plain": [
       "tensor([[0.0877, 0.1019, 0.1178,  ..., 0.0010, 0.0010, 0.0011]])"
      ]
     },
     "execution_count": 49,
     "metadata": {},
     "output_type": "execute_result"
    }
   ],
   "source": [
    "noisy_wav"
   ]
  },
  {
   "cell_type": "code",
   "execution_count": 50,
   "metadata": {},
   "outputs": [
    {
     "name": "stdout",
     "output_type": "stream",
     "text": [
      "16000\n",
      "16000\n"
     ]
    }
   ],
   "source": [
    "print(clean_sr)\n",
    "print(noisy_sr)"
   ]
  },
  {
   "cell_type": "code",
   "execution_count": 51,
   "metadata": {},
   "outputs": [
    {
     "data": {
      "text/plain": [
       "torch.Size([1, 160000])"
      ]
     },
     "execution_count": 51,
     "metadata": {},
     "output_type": "execute_result"
    }
   ],
   "source": [
    "clean_wav.shape"
   ]
  },
  {
   "cell_type": "markdown",
   "metadata": {},
   "source": [
    "Note that in the [example notebook](https://github.com/schmiph2/pysepm/blob/master/examples/examplesForCalculatingMeasures.ipynb) provided by the github repository of **pysepm**, the type and the shape of the input are given as numpy array and $(N,)$ where $N$ is equal to the product of `sample_rate` and `duration of audio file (in seconds)`"
   ]
  },
  {
   "cell_type": "code",
   "execution_count": 52,
   "metadata": {},
   "outputs": [],
   "source": [
    "clean_wav = clean_wav.numpy().reshape(-1)\n",
    "noisy_wav = noisy_wav.numpy().reshape(-1)"
   ]
  },
  {
   "cell_type": "code",
   "execution_count": 53,
   "metadata": {},
   "outputs": [
    {
     "name": "stdout",
     "output_type": "stream",
     "text": [
      "<class 'numpy.ndarray'>\n",
      "(160000,)\n"
     ]
    }
   ],
   "source": [
    "print(type(clean_wav))\n",
    "print(clean_wav.shape)"
   ]
  },
  {
   "cell_type": "markdown",
   "metadata": {},
   "source": [
    "Bring the file list of enhanced audio files in the same order as the clean and noisy files list."
   ]
  },
  {
   "cell_type": "code",
   "execution_count": 54,
   "metadata": {},
   "outputs": [],
   "source": [
    "RESULT_DIR = \"/home/ubuntu/efs/IntroDL/denoiser/results\"\n",
    "\n",
    "demucs_enhanced_files = sorted(glob(RESULT_DIR + \"/Demucs_denoised/*\"))\n",
    "fullsubnet_enhanced_files = sorted(glob(RESULT_DIR + \"/FullSubNet_denoised/*\"))\n",
    "demucs_enhanced_dict = {os.path.basename(name).split('_')[-1]:name for name in demucs_enhanced_files}\n",
    "fullsubnet_enhanced_dict = {os.path.basename(name).split('_')[-1]:name for name in fullsubnet_enhanced_files}\n",
    "\n"
   ]
  },
  {
   "cell_type": "code",
   "execution_count": 55,
   "metadata": {},
   "outputs": [],
   "source": [
    "demucs_enhanced_files = []\n",
    "fullsubnet_enhanced_files = []\n",
    "for fileid in clean_dict.keys() : \n",
    "    demucs_enhanced_files.append(demucs_enhanced_dict[fileid])\n",
    "    fullsubnet_enhanced_files.append(fullsubnet_enhanced_dict[fileid])"
   ]
  },
  {
   "cell_type": "code",
   "execution_count": 56,
   "metadata": {},
   "outputs": [
    {
     "name": "stdout",
     "output_type": "stream",
     "text": [
      "['/home/ubuntu/efs/IntroDL/denoiser/dataset/starter_noisy/noisy/clnsp126_3Wjw0nadnM4_snr15_tl-22_fileid_0.wav', '/home/ubuntu/efs/IntroDL/denoiser/dataset/starter_noisy/noisy/clnsp198_bus_56903_0_snr0_tl-32_fileid_101.wav', '/home/ubuntu/efs/IntroDL/denoiser/dataset/starter_noisy/noisy/clnsp535_washer_460549_1_snr2_tl-35_fileid_102.wav', '/home/ubuntu/efs/IntroDL/denoiser/dataset/starter_noisy/noisy/clnsp228_vacuum_379760_1_snr1_tl-19_fileid_104.wav', '/home/ubuntu/efs/IntroDL/denoiser/dataset/starter_noisy/noisy/clnsp591_clatter_noise_166453__zabuhailo__metalworking-hammer-5_5_snr9_tl-27_fileid_105.wav']\n",
      "['/home/ubuntu/efs/IntroDL/denoiser/dataset/starter_clean/clean/clean_fileid_0.wav', '/home/ubuntu/efs/IntroDL/denoiser/dataset/starter_clean/clean/clean_fileid_101.wav', '/home/ubuntu/efs/IntroDL/denoiser/dataset/starter_clean/clean/clean_fileid_102.wav', '/home/ubuntu/efs/IntroDL/denoiser/dataset/starter_clean/clean/clean_fileid_104.wav', '/home/ubuntu/efs/IntroDL/denoiser/dataset/starter_clean/clean/clean_fileid_105.wav']\n",
      "['/home/ubuntu/efs/IntroDL/denoiser/results/Demucs_denoised/clnsp126_3Wjw0nadnM4_snr15_tl-22_fileid_0.wav', '/home/ubuntu/efs/IntroDL/denoiser/results/Demucs_denoised/clnsp198_bus_56903_0_snr0_tl-32_fileid_101.wav', '/home/ubuntu/efs/IntroDL/denoiser/results/Demucs_denoised/clnsp535_washer_460549_1_snr2_tl-35_fileid_102.wav', '/home/ubuntu/efs/IntroDL/denoiser/results/Demucs_denoised/clnsp228_vacuum_379760_1_snr1_tl-19_fileid_104.wav', '/home/ubuntu/efs/IntroDL/denoiser/results/Demucs_denoised/clnsp591_clatter_noise_166453__zabuhailo__metalworking-hammer-5_5_snr9_tl-27_fileid_105.wav']\n",
      "['/home/ubuntu/efs/IntroDL/denoiser/results/FullSubNet_denoised/clnsp126_3Wjw0nadnM4_snr15_tl-22_fileid_0.wav', '/home/ubuntu/efs/IntroDL/denoiser/results/FullSubNet_denoised/clnsp198_bus_56903_0_snr0_tl-32_fileid_101.wav', '/home/ubuntu/efs/IntroDL/denoiser/results/FullSubNet_denoised/clnsp535_washer_460549_1_snr2_tl-35_fileid_102.wav', '/home/ubuntu/efs/IntroDL/denoiser/results/FullSubNet_denoised/clnsp228_vacuum_379760_1_snr1_tl-19_fileid_104.wav', '/home/ubuntu/efs/IntroDL/denoiser/results/FullSubNet_denoised/clnsp591_clatter_noise_166453__zabuhailo__metalworking-hammer-5_5_snr9_tl-27_fileid_105.wav']\n"
     ]
    }
   ],
   "source": [
    "print(noisy_files[:5])\n",
    "print(clean_files[:5])\n",
    "print(demucs_enhanced_files[:5])\n",
    "print(fullsubnet_enhanced_files[:5])"
   ]
  },
  {
   "cell_type": "code",
   "execution_count": 57,
   "metadata": {},
   "outputs": [],
   "source": [
    "demucs_enhanced_wav, demucs_enhanced_sr = torchaudio.load(demucs_enhanced_files[0])\n",
    "fullsubnet_enhanced_wav, fullsubnet_enhanced_sr = torchaudio.load(fullsubnet_enhanced_files[0])"
   ]
  },
  {
   "cell_type": "code",
   "execution_count": 58,
   "metadata": {},
   "outputs": [
    {
     "data": {
      "text/plain": [
       "tensor([[ 0.0834,  0.0984,  0.1180,  ..., -0.0008, -0.0008, -0.0006]])"
      ]
     },
     "execution_count": 58,
     "metadata": {},
     "output_type": "execute_result"
    }
   ],
   "source": [
    "demucs_enhanced_wav"
   ]
  },
  {
   "cell_type": "code",
   "execution_count": 59,
   "metadata": {},
   "outputs": [
    {
     "data": {
      "text/plain": [
       "tensor([[0.0718, 0.0818, 0.0923,  ..., 0.0002, 0.0005, 0.0007]])"
      ]
     },
     "execution_count": 59,
     "metadata": {},
     "output_type": "execute_result"
    }
   ],
   "source": [
    "fullsubnet_enhanced_wav"
   ]
  },
  {
   "cell_type": "code",
   "execution_count": 60,
   "metadata": {},
   "outputs": [
    {
     "name": "stdout",
     "output_type": "stream",
     "text": [
      "16000\n",
      "16000\n"
     ]
    }
   ],
   "source": [
    "print(demucs_enhanced_sr)\n",
    "print(fullsubnet_enhanced_sr)"
   ]
  },
  {
   "cell_type": "code",
   "execution_count": 61,
   "metadata": {},
   "outputs": [],
   "source": [
    "demucs_enhanced_wav = demucs_enhanced_wav.numpy().reshape(-1)\n",
    "fullsubnet_enhanced_wav = fullsubnet_enhanced_wav.numpy().reshape(-1)\n"
   ]
  },
  {
   "cell_type": "markdown",
   "metadata": {},
   "source": [
    "# Calc Measures"
   ]
  },
  {
   "cell_type": "markdown",
   "metadata": {},
   "source": [
    "## STOI"
   ]
  },
  {
   "cell_type": "code",
   "execution_count": 62,
   "metadata": {},
   "outputs": [
    {
     "data": {
      "text/plain": [
       "0.9807254867015377"
      ]
     },
     "execution_count": 62,
     "metadata": {},
     "output_type": "execute_result"
    }
   ],
   "source": [
    "pysepm.stoi(clean_wav, noisy_wav, clean_sr)"
   ]
  },
  {
   "cell_type": "code",
   "execution_count": 63,
   "metadata": {},
   "outputs": [
    {
     "data": {
      "text/plain": [
       "0.9933100283139101"
      ]
     },
     "execution_count": 63,
     "metadata": {},
     "output_type": "execute_result"
    }
   ],
   "source": [
    "pysepm.stoi(clean_wav, demucs_enhanced_wav, clean_sr)"
   ]
  },
  {
   "cell_type": "code",
   "execution_count": 64,
   "metadata": {},
   "outputs": [
    {
     "data": {
      "text/plain": [
       "0.9917838243037159"
      ]
     },
     "execution_count": 64,
     "metadata": {},
     "output_type": "execute_result"
    }
   ],
   "source": [
    "pysepm.stoi(clean_wav, fullsubnet_enhanced_wav, clean_sr)"
   ]
  },
  {
   "cell_type": "markdown",
   "metadata": {},
   "source": [
    "Conjecture by Taeyoung\n",
    "\n",
    "STOI :  \n",
    "- somehow measures the correlation between two waveforms\n",
    "- the higher the better"
   ]
  },
  {
   "cell_type": "markdown",
   "metadata": {},
   "source": [
    "## PESQ"
   ]
  },
  {
   "cell_type": "code",
   "execution_count": 65,
   "metadata": {},
   "outputs": [
    {
     "data": {
      "text/plain": [
       "2.3495934009552"
      ]
     },
     "execution_count": 65,
     "metadata": {},
     "output_type": "execute_result"
    }
   ],
   "source": [
    "pysepm.pesq(clean_wav, noisy_wav, clean_sr)[1]"
   ]
  },
  {
   "cell_type": "code",
   "execution_count": 66,
   "metadata": {},
   "outputs": [
    {
     "data": {
      "text/plain": [
       "3.5990958213806152"
      ]
     },
     "execution_count": 66,
     "metadata": {},
     "output_type": "execute_result"
    }
   ],
   "source": [
    "pysepm.pesq(clean_wav, demucs_enhanced_wav, clean_sr)[1]"
   ]
  },
  {
   "cell_type": "code",
   "execution_count": 67,
   "metadata": {},
   "outputs": [
    {
     "data": {
      "text/plain": [
       "3.5924763679504395"
      ]
     },
     "execution_count": 67,
     "metadata": {},
     "output_type": "execute_result"
    }
   ],
   "source": [
    "pysepm.pesq(clean_wav, fullsubnet_enhanced_wav, clean_sr)[1]"
   ]
  },
  {
   "cell_type": "markdown",
   "metadata": {},
   "source": [
    "Conjecture by Taeyoung\n",
    "\n",
    "PESQ :  \n",
    "- Subtract disturbance from $a_0 = 4.5$\n",
    "- Closer to 4.5 the better"
   ]
  },
  {
   "cell_type": "markdown",
   "metadata": {},
   "source": [
    "## fwSNRseg"
   ]
  },
  {
   "cell_type": "code",
   "execution_count": 68,
   "metadata": {},
   "outputs": [
    {
     "data": {
      "text/plain": [
       "20.69275673110846"
      ]
     },
     "execution_count": 68,
     "metadata": {},
     "output_type": "execute_result"
    }
   ],
   "source": [
    "pysepm.fwSNRseg(clean_wav, noisy_wav, clean_sr)"
   ]
  },
  {
   "cell_type": "code",
   "execution_count": 69,
   "metadata": {},
   "outputs": [
    {
     "data": {
      "text/plain": [
       "22.317664763495486"
      ]
     },
     "execution_count": 69,
     "metadata": {},
     "output_type": "execute_result"
    }
   ],
   "source": [
    "pysepm.fwSNRseg(clean_wav, demucs_enhanced_wav, clean_sr)"
   ]
  },
  {
   "cell_type": "code",
   "execution_count": 70,
   "metadata": {},
   "outputs": [
    {
     "data": {
      "text/plain": [
       "23.481140233098415"
      ]
     },
     "execution_count": 70,
     "metadata": {},
     "output_type": "execute_result"
    }
   ],
   "source": [
    "pysepm.fwSNRseg(clean_wav, fullsubnet_enhanced_wav, clean_sr)"
   ]
  },
  {
   "cell_type": "markdown",
   "metadata": {},
   "source": [
    "Conjecture by Taeyoung\n",
    "\n",
    "Signal to noise ratio :  \n",
    "- first argument is clean, which is signal \n",
    "- the second argument is noisy, which is signal + noise.\n",
    "- Noise should be small, so high SNR is desired."
   ]
  },
  {
   "cell_type": "code",
   "execution_count": 71,
   "metadata": {},
   "outputs": [],
   "source": [
    "STOI_noisy = []\n",
    "STOI_demucs_enhanced = []\n",
    "STOI_fullsubnet_enhanced = []\n",
    "PESQ_noisy = []\n",
    "PESQ_demucs_enhanced = []\n",
    "PESQ_fullsubnet_enhanced = []\n",
    "FWSNR_noisy = []\n",
    "FWSNR_demucs_enhanced = []\n",
    "FWSNR_fullsubnet_enhanced = []\n",
    "\n",
    "for i in range(len(clean_files)) :\n",
    "    clean_wav, clean_sr = torchaudio.load(clean_files[i])\n",
    "    noisy_wav, noisy_sr = torchaudio.load(noisy_files[i])\n",
    "    demucs_enhanced_wav, demucs_enhanced_sr = torchaudio.load(demucs_enhanced_files[i])\n",
    "    fullsubnet_enhanced_wav, fullsubnet_enhanced_sr = torchaudio.load(fullsubnet_enhanced_files[i])\n",
    "    \n",
    "    clean_wav = clean_wav.numpy().reshape(-1)\n",
    "    noisy_wav = noisy_wav.numpy().reshape(-1)\n",
    "    demucs_enhanced_wav = demucs_enhanced_wav.numpy().reshape(-1)\n",
    "    fullsubnet_enhanced_wav = fullsubnet_enhanced_wav.numpy().reshape(-1)\n",
    "\n",
    "    STOI_noisy.append(pysepm.stoi(clean_wav, noisy_wav, clean_sr))\n",
    "    STOI_demucs_enhanced.append(pysepm.stoi(clean_wav, demucs_enhanced_wav, clean_sr))\n",
    "    STOI_fullsubnet_enhanced.append(pysepm.stoi(clean_wav, fullsubnet_enhanced_wav, clean_sr))\n",
    "\n",
    "    PESQ_noisy.append(pysepm.pesq(clean_wav, noisy_wav, clean_sr)[1])\n",
    "    PESQ_demucs_enhanced.append(pysepm.pesq(clean_wav, demucs_enhanced_wav, clean_sr)[1])\n",
    "    PESQ_fullsubnet_enhanced.append(pysepm.pesq(clean_wav, fullsubnet_enhanced_wav, clean_sr)[1])\n",
    "\n",
    "    FWSNR_noisy.append(pysepm.fwSNRseg(clean_wav, noisy_wav, clean_sr))\n",
    "    FWSNR_demucs_enhanced.append(pysepm.fwSNRseg(clean_wav, demucs_enhanced_wav, clean_sr))\n",
    "    FWSNR_fullsubnet_enhanced.append(pysepm.fwSNRseg(clean_wav, fullsubnet_enhanced_wav, clean_sr))\n"
   ]
  },
  {
   "cell_type": "code",
   "execution_count": 81,
   "metadata": {},
   "outputs": [],
   "source": [
    "import numpy as np"
   ]
  },
  {
   "cell_type": "code",
   "execution_count": 82,
   "metadata": {},
   "outputs": [
    {
     "name": "stdout",
     "output_type": "stream",
     "text": [
      "mean and stdev of STOI for noisy files are 0.9152 , 0.0647\n",
      "mean and stdev of STOI for DeMucs enhanced files are 0.9652 , 0.0328\n",
      "mean and stdev of STOI for FullSubNet enhanced files are 0.9641 , 0.0350\n",
      "mean and stdev of PESQ for noisy files are 1.5822 , 0.4576\n",
      "mean and stdev of PESQ for DeMucs enhanced files are 2.6447 , 0.6332\n",
      "mean and stdev of PESQ for FullSubNet enhanced files are 2.8885 , 0.6719\n",
      "mean and stdev of fwSNRseg for noisy files are 12.6234 , 4.9981\n",
      "mean and stdev of fwSNRseg for DeMucs enhanced files are 17.1348 , 3.7549\n",
      "mean and stdev of fwSNRseg for FullSubNet enhanced files are 16.9617 , 4.3833\n"
     ]
    }
   ],
   "source": [
    "print(\"mean and stdev of STOI for noisy files are {:.4f} , {:.4f}\".format(np.mean(STOI_noisy),np.std(STOI_noisy)))\n",
    "print(\"mean and stdev of STOI for DeMucs enhanced files are {:.4f} , {:.4f}\".format(np.mean(STOI_demucs_enhanced),np.std(STOI_demucs_enhanced)))\n",
    "print(\"mean and stdev of STOI for FullSubNet enhanced files are {:.4f} , {:.4f}\".format(np.mean(STOI_fullsubnet_enhanced),np.std(STOI_fullsubnet_enhanced)))\n",
    "print(\"mean and stdev of PESQ for noisy files are {:.4f} , {:.4f}\".format(np.mean(PESQ_noisy),np.std(PESQ_noisy)))\n",
    "print(\"mean and stdev of PESQ for DeMucs enhanced files are {:.4f} , {:.4f}\".format(np.mean(PESQ_demucs_enhanced),np.std(PESQ_demucs_enhanced)))\n",
    "print(\"mean and stdev of PESQ for FullSubNet enhanced files are {:.4f} , {:.4f}\".format(np.mean(PESQ_fullsubnet_enhanced),np.std(PESQ_fullsubnet_enhanced)))\n",
    "print(\"mean and stdev of fwSNRseg for noisy files are {:.4f} , {:.4f}\".format(np.mean(FWSNR_noisy),np.std(FWSNR_noisy)))\n",
    "print(\"mean and stdev of fwSNRseg for DeMucs enhanced files are {:.4f} , {:.4f}\".format(np.mean(FWSNR_demucs_enhanced),np.std(FWSNR_demucs_enhanced)))\n",
    "print(\"mean and stdev of fwSNRseg for FullSubNet enhanced files are {:.4f} , {:.4f}\".format(np.mean(FWSNR_fullsubnet_enhanced),np.std(FWSNR_fullsubnet_enhanced)))\n"
   ]
  },
  {
   "cell_type": "code",
   "execution_count": 83,
   "metadata": {},
   "outputs": [],
   "source": [
    "import numpy as np\n",
    "import pandas as pd"
   ]
  },
  {
   "cell_type": "code",
   "execution_count": 84,
   "metadata": {},
   "outputs": [],
   "source": [
    "table = pd.DataFrame(columns = [\"metric\", \"stat\", \"Noisy\", \"Demuc\", \"FullSubNet\"])"
   ]
  },
  {
   "cell_type": "code",
   "execution_count": 85,
   "metadata": {},
   "outputs": [],
   "source": [
    "table[\"metric\"] = [\"STOI\", \"PESQ\", \"fwSNRSeg\"] * 2\n",
    "table['stat'] = ['mean'] * 3 + ['std'] * 3"
   ]
  },
  {
   "cell_type": "code",
   "execution_count": 86,
   "metadata": {},
   "outputs": [],
   "source": [
    "table = table.sort_values(['metric'])\n",
    "table = table.set_index(['metric', 'stat'])\n"
   ]
  },
  {
   "cell_type": "code",
   "execution_count": 87,
   "metadata": {},
   "outputs": [],
   "source": [
    "table.iloc[0] = [np.mean(PESQ_noisy), np.mean(PESQ_demucs_enhanced), np.mean(PESQ_fullsubnet_enhanced)]\n",
    "table.iloc[1] = [np.std(PESQ_noisy), np.std(PESQ_demucs_enhanced), np.std(PESQ_fullsubnet_enhanced)]\n",
    "table.iloc[2] = [np.mean(STOI_noisy), np.mean(STOI_demucs_enhanced), np.mean(STOI_fullsubnet_enhanced)]\n",
    "table.iloc[3] = [np.std(STOI_noisy), np.std(STOI_demucs_enhanced), np.std(STOI_fullsubnet_enhanced)]\n",
    "table.iloc[4] = [np.mean(FWSNR_noisy), np.mean(FWSNR_demucs_enhanced), np.mean(FWSNR_fullsubnet_enhanced)]\n",
    "table.iloc[5] = [np.std(FWSNR_noisy), np.std(FWSNR_demucs_enhanced), np.std(FWSNR_fullsubnet_enhanced)]"
   ]
  },
  {
   "cell_type": "code",
   "execution_count": 88,
   "metadata": {},
   "outputs": [
    {
     "data": {
      "text/html": [
       "<div>\n",
       "<style scoped>\n",
       "    .dataframe tbody tr th:only-of-type {\n",
       "        vertical-align: middle;\n",
       "    }\n",
       "\n",
       "    .dataframe tbody tr th {\n",
       "        vertical-align: top;\n",
       "    }\n",
       "\n",
       "    .dataframe thead th {\n",
       "        text-align: right;\n",
       "    }\n",
       "</style>\n",
       "<table border=\"1\" class=\"dataframe\">\n",
       "  <thead>\n",
       "    <tr style=\"text-align: right;\">\n",
       "      <th></th>\n",
       "      <th></th>\n",
       "      <th>Noisy</th>\n",
       "      <th>Demuc</th>\n",
       "      <th>FullSubNet</th>\n",
       "    </tr>\n",
       "    <tr>\n",
       "      <th>metric</th>\n",
       "      <th>stat</th>\n",
       "      <th></th>\n",
       "      <th></th>\n",
       "      <th></th>\n",
       "    </tr>\n",
       "  </thead>\n",
       "  <tbody>\n",
       "    <tr>\n",
       "      <th rowspan=\"2\" valign=\"top\">PESQ</th>\n",
       "      <th>mean</th>\n",
       "      <td>1.582239</td>\n",
       "      <td>2.644714</td>\n",
       "      <td>2.88852</td>\n",
       "    </tr>\n",
       "    <tr>\n",
       "      <th>std</th>\n",
       "      <td>0.457569</td>\n",
       "      <td>0.633244</td>\n",
       "      <td>0.671924</td>\n",
       "    </tr>\n",
       "    <tr>\n",
       "      <th rowspan=\"2\" valign=\"top\">STOI</th>\n",
       "      <th>mean</th>\n",
       "      <td>0.915185</td>\n",
       "      <td>0.96523</td>\n",
       "      <td>0.964117</td>\n",
       "    </tr>\n",
       "    <tr>\n",
       "      <th>std</th>\n",
       "      <td>0.064698</td>\n",
       "      <td>0.032818</td>\n",
       "      <td>0.03496</td>\n",
       "    </tr>\n",
       "    <tr>\n",
       "      <th rowspan=\"2\" valign=\"top\">fwSNRSeg</th>\n",
       "      <th>mean</th>\n",
       "      <td>12.62337</td>\n",
       "      <td>17.134819</td>\n",
       "      <td>16.961693</td>\n",
       "    </tr>\n",
       "    <tr>\n",
       "      <th>std</th>\n",
       "      <td>4.998137</td>\n",
       "      <td>3.754918</td>\n",
       "      <td>4.383323</td>\n",
       "    </tr>\n",
       "  </tbody>\n",
       "</table>\n",
       "</div>"
      ],
      "text/plain": [
       "                  Noisy      Demuc FullSubNet\n",
       "metric   stat                                \n",
       "PESQ     mean  1.582239   2.644714    2.88852\n",
       "         std   0.457569   0.633244   0.671924\n",
       "STOI     mean  0.915185    0.96523   0.964117\n",
       "         std   0.064698   0.032818    0.03496\n",
       "fwSNRSeg mean  12.62337  17.134819  16.961693\n",
       "         std   4.998137   3.754918   4.383323"
      ]
     },
     "execution_count": 88,
     "metadata": {},
     "output_type": "execute_result"
    }
   ],
   "source": [
    "table"
   ]
  },
  {
   "cell_type": "code",
   "execution_count": 89,
   "metadata": {},
   "outputs": [],
   "source": [
    "pd.DataFrame.to_csv(table,\"./EvalMetrics/table.csv\" )"
   ]
  },
  {
   "cell_type": "code",
   "execution_count": null,
   "metadata": {},
   "outputs": [],
   "source": []
  }
 ],
 "metadata": {
  "kernelspec": {
   "display_name": "Python 3.8.13 (conda)",
   "language": "python",
   "name": "python3"
  },
  "language_info": {
   "codemirror_mode": {
    "name": "ipython",
    "version": 3
   },
   "file_extension": ".py",
   "mimetype": "text/x-python",
   "name": "python",
   "nbconvert_exporter": "python",
   "pygments_lexer": "ipython3",
   "version": "3.8.13"
  },
  "vscode": {
   "interpreter": {
    "hash": "4240ea2ad2b14635208500249ce08af07aea6fb327ada44767c5d03b07724d82"
   }
  }
 },
 "nbformat": 4,
 "nbformat_minor": 4
}
