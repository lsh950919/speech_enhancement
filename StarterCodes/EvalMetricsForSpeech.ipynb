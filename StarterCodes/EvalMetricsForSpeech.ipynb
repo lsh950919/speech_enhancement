{
 "cells": [
  {
   "cell_type": "code",
   "execution_count": 4,
   "metadata": {},
   "outputs": [
    {
     "name": "stdout",
     "output_type": "stream",
     "text": [
      "Collecting https://github.com/schmiph2/pysepm/archive/master.zip\n",
      "  Using cached https://github.com/schmiph2/pysepm/archive/master.zip\n",
      "  Installing build dependencies ... \u001b[?25ldone\n",
      "\u001b[?25h  Getting requirements to build wheel ... \u001b[?25ldone\n",
      "\u001b[?25h  Preparing metadata (pyproject.toml) ... \u001b[?25ldone\n",
      "\u001b[?25hCollecting pesq@ https://github.com/ludlows/python-pesq/archive/master.zip#egg=pesq\n",
      "  Using cached https://github.com/ludlows/python-pesq/archive/master.zip\n",
      "  Preparing metadata (setup.py) ... \u001b[?25ldone\n",
      "\u001b[?25hCollecting SRMRpy@ https://github.com/jfsantos/SRMRpy/archive/master.zip#egg=SRMRpy\n",
      "  Using cached https://github.com/jfsantos/SRMRpy/archive/master.zip\n",
      "  Preparing metadata (setup.py) ... \u001b[?25ldone\n",
      "\u001b[?25hRequirement already satisfied: numpy in /home/ubuntu/efs/IntroDL/DeMucs/lib/python3.8/site-packages (from pysepm==0.1) (1.23.4)\n",
      "Requirement already satisfied: pystoi in /home/ubuntu/efs/IntroDL/DeMucs/lib/python3.8/site-packages (from pysepm==0.1) (0.3.3)\n",
      "Requirement already satisfied: scipy in /home/ubuntu/efs/IntroDL/DeMucs/lib/python3.8/site-packages (from pysepm==0.1) (1.9.3)\n",
      "Requirement already satisfied: numba in /home/ubuntu/efs/IntroDL/DeMucs/lib/python3.8/site-packages (from pysepm==0.1) (0.56.3)\n",
      "Requirement already satisfied: importlib-metadata in /home/ubuntu/efs/IntroDL/DeMucs/lib/python3.8/site-packages (from numba->pysepm==0.1) (5.0.0)\n",
      "Requirement already satisfied: setuptools in /home/ubuntu/efs/IntroDL/DeMucs/lib/python3.8/site-packages (from numba->pysepm==0.1) (65.5.0)\n",
      "Requirement already satisfied: llvmlite<0.40,>=0.39.0dev0 in /home/ubuntu/efs/IntroDL/DeMucs/lib/python3.8/site-packages (from numba->pysepm==0.1) (0.39.1)\n",
      "Collecting Gammatone@ https://github.com/detly/gammatone/archive/master.zip#egg=Gammatone\n",
      "  Using cached https://github.com/detly/gammatone/archive/master.zip\n",
      "  Preparing metadata (setup.py) ... \u001b[?25ldone\n",
      "\u001b[?25hRequirement already satisfied: nose in /home/ubuntu/efs/IntroDL/DeMucs/lib/python3.8/site-packages (from Gammatone@ https://github.com/detly/gammatone/archive/master.zip#egg=Gammatone->SRMRpy@ https://github.com/jfsantos/SRMRpy/archive/master.zip#egg=SRMRpy->pysepm==0.1) (1.3.7)\n",
      "Requirement already satisfied: mock in /home/ubuntu/efs/IntroDL/DeMucs/lib/python3.8/site-packages (from Gammatone@ https://github.com/detly/gammatone/archive/master.zip#egg=Gammatone->SRMRpy@ https://github.com/jfsantos/SRMRpy/archive/master.zip#egg=SRMRpy->pysepm==0.1) (4.0.3)\n",
      "Requirement already satisfied: matplotlib in /home/ubuntu/efs/IntroDL/DeMucs/lib/python3.8/site-packages (from Gammatone@ https://github.com/detly/gammatone/archive/master.zip#egg=Gammatone->SRMRpy@ https://github.com/jfsantos/SRMRpy/archive/master.zip#egg=SRMRpy->pysepm==0.1) (3.6.1)\n",
      "Requirement already satisfied: zipp>=0.5 in /home/ubuntu/efs/IntroDL/DeMucs/lib/python3.8/site-packages (from importlib-metadata->numba->pysepm==0.1) (3.10.0)\n",
      "Requirement already satisfied: python-dateutil>=2.7 in /home/ubuntu/efs/IntroDL/DeMucs/lib/python3.8/site-packages (from matplotlib->Gammatone@ https://github.com/detly/gammatone/archive/master.zip#egg=Gammatone->SRMRpy@ https://github.com/jfsantos/SRMRpy/archive/master.zip#egg=SRMRpy->pysepm==0.1) (2.8.2)\n",
      "Requirement already satisfied: pyparsing>=2.2.1 in /home/ubuntu/efs/IntroDL/DeMucs/lib/python3.8/site-packages (from matplotlib->Gammatone@ https://github.com/detly/gammatone/archive/master.zip#egg=Gammatone->SRMRpy@ https://github.com/jfsantos/SRMRpy/archive/master.zip#egg=SRMRpy->pysepm==0.1) (3.0.9)\n",
      "Requirement already satisfied: kiwisolver>=1.0.1 in /home/ubuntu/efs/IntroDL/DeMucs/lib/python3.8/site-packages (from matplotlib->Gammatone@ https://github.com/detly/gammatone/archive/master.zip#egg=Gammatone->SRMRpy@ https://github.com/jfsantos/SRMRpy/archive/master.zip#egg=SRMRpy->pysepm==0.1) (1.4.4)\n",
      "Requirement already satisfied: contourpy>=1.0.1 in /home/ubuntu/efs/IntroDL/DeMucs/lib/python3.8/site-packages (from matplotlib->Gammatone@ https://github.com/detly/gammatone/archive/master.zip#egg=Gammatone->SRMRpy@ https://github.com/jfsantos/SRMRpy/archive/master.zip#egg=SRMRpy->pysepm==0.1) (1.0.6)\n",
      "Requirement already satisfied: packaging>=20.0 in /home/ubuntu/efs/IntroDL/DeMucs/lib/python3.8/site-packages (from matplotlib->Gammatone@ https://github.com/detly/gammatone/archive/master.zip#egg=Gammatone->SRMRpy@ https://github.com/jfsantos/SRMRpy/archive/master.zip#egg=SRMRpy->pysepm==0.1) (21.3)\n",
      "Requirement already satisfied: fonttools>=4.22.0 in /home/ubuntu/efs/IntroDL/DeMucs/lib/python3.8/site-packages (from matplotlib->Gammatone@ https://github.com/detly/gammatone/archive/master.zip#egg=Gammatone->SRMRpy@ https://github.com/jfsantos/SRMRpy/archive/master.zip#egg=SRMRpy->pysepm==0.1) (4.38.0)\n",
      "Requirement already satisfied: cycler>=0.10 in /home/ubuntu/efs/IntroDL/DeMucs/lib/python3.8/site-packages (from matplotlib->Gammatone@ https://github.com/detly/gammatone/archive/master.zip#egg=Gammatone->SRMRpy@ https://github.com/jfsantos/SRMRpy/archive/master.zip#egg=SRMRpy->pysepm==0.1) (0.11.0)\n",
      "Requirement already satisfied: pillow>=6.2.0 in /home/ubuntu/efs/IntroDL/DeMucs/lib/python3.8/site-packages (from matplotlib->Gammatone@ https://github.com/detly/gammatone/archive/master.zip#egg=Gammatone->SRMRpy@ https://github.com/jfsantos/SRMRpy/archive/master.zip#egg=SRMRpy->pysepm==0.1) (9.2.0)\n",
      "Requirement already satisfied: six>=1.5 in /home/ubuntu/efs/IntroDL/DeMucs/lib/python3.8/site-packages (from python-dateutil>=2.7->matplotlib->Gammatone@ https://github.com/detly/gammatone/archive/master.zip#egg=Gammatone->SRMRpy@ https://github.com/jfsantos/SRMRpy/archive/master.zip#egg=SRMRpy->pysepm==0.1) (1.16.0)\n"
     ]
    }
   ],
   "source": [
    "!python -m pip install https://github.com/schmiph2/pysepm/archive/master.zip"
   ]
  },
  {
   "cell_type": "code",
   "execution_count": 5,
   "metadata": {},
   "outputs": [],
   "source": [
    "import pysepm"
   ]
  },
  {
   "cell_type": "code",
   "execution_count": 6,
   "metadata": {},
   "outputs": [],
   "source": [
    "import torch\n",
    "import torchaudio\n",
    "from denoiser import pretrained\n",
    "from denoiser.dsp import convert_audio\n"
   ]
  },
  {
   "cell_type": "code",
   "execution_count": 7,
   "metadata": {},
   "outputs": [],
   "source": [
    "import os\n",
    "from glob import glob"
   ]
  },
  {
   "cell_type": "code",
   "execution_count": 8,
   "metadata": {},
   "outputs": [],
   "source": [
    "# from scipy.io import wavfile\n",
    "# # import sys\n",
    "# # sys.path.append(\"../\") \n",
    "\n"
   ]
  },
  {
   "cell_type": "markdown",
   "metadata": {},
   "source": [
    "# Load Audio Files"
   ]
  },
  {
   "cell_type": "code",
   "execution_count": 9,
   "metadata": {},
   "outputs": [],
   "source": [
    "DATA_DIR = \"/home/ubuntu/efs/IntroDL/denoiser/dataset\"\n",
    "CLEAN_DIR = os.path.join(DATA_DIR, \"starter_clean/clean\")\n",
    "NOISY_DIR = os.path.join(DATA_DIR, \"starter_noisy/noisy\")\n",
    "\n"
   ]
  },
  {
   "cell_type": "code",
   "execution_count": 10,
   "metadata": {},
   "outputs": [],
   "source": [
    "clean_files = sorted(glob(CLEAN_DIR + \"/*\"))\n",
    "noisy_files = sorted(glob(NOISY_DIR + \"/*\"))"
   ]
  },
  {
   "cell_type": "markdown",
   "metadata": {},
   "source": [
    "`clean_files` and `noisy_files` does not have same order of files ; i.e. the i-th file of `clean_files` does not correspond to the i-th files of `noisy_files`. Hence, we should make the file id of the i-th file of `clean_files` and `noisy_files` correspond to each other. "
   ]
  },
  {
   "cell_type": "code",
   "execution_count": 11,
   "metadata": {},
   "outputs": [
    {
     "name": "stdout",
     "output_type": "stream",
     "text": [
      "142.wav\n"
     ]
    }
   ],
   "source": [
    "i = 100\n",
    "name = os.path.basename(noisy_files[i]).split('_')[-1]\n",
    "print(name)"
   ]
  },
  {
   "cell_type": "code",
   "execution_count": 12,
   "metadata": {},
   "outputs": [],
   "source": [
    "clean_dict = {os.path.basename(name).split('_')[-1]:name for name in clean_files}\n",
    "noisy_dict = {os.path.basename(name).split('_')[-1]:name for name in noisy_files}\n"
   ]
  },
  {
   "cell_type": "code",
   "execution_count": 13,
   "metadata": {},
   "outputs": [
    {
     "name": "stdout",
     "output_type": "stream",
     "text": [
      "True\n",
      "True\n"
     ]
    }
   ],
   "source": [
    "print(len(clean_files) == len(noisy_files))\n",
    "print(set(clean_dict.keys()) == set(noisy_dict.keys()))\n",
    "# Check that the set of file id of clean files and noisy files are exactly the same"
   ]
  },
  {
   "cell_type": "code",
   "execution_count": 14,
   "metadata": {},
   "outputs": [],
   "source": [
    "clean_files = []\n",
    "noisy_files = []\n",
    "for fileid in clean_dict.keys() : \n",
    "    clean_files.append(clean_dict[fileid])\n",
    "    noisy_files.append(noisy_dict[fileid])\n"
   ]
  },
  {
   "cell_type": "code",
   "execution_count": 15,
   "metadata": {},
   "outputs": [
    {
     "name": "stdout",
     "output_type": "stream",
     "text": [
      "['/home/ubuntu/efs/IntroDL/denoiser/dataset/starter_noisy/noisy/clnsp126_3Wjw0nadnM4_snr15_tl-22_fileid_0.wav', '/home/ubuntu/efs/IntroDL/denoiser/dataset/starter_noisy/noisy/clnsp198_bus_56903_0_snr0_tl-32_fileid_101.wav', '/home/ubuntu/efs/IntroDL/denoiser/dataset/starter_noisy/noisy/clnsp535_washer_460549_1_snr2_tl-35_fileid_102.wav', '/home/ubuntu/efs/IntroDL/denoiser/dataset/starter_noisy/noisy/clnsp228_vacuum_379760_1_snr1_tl-19_fileid_104.wav', '/home/ubuntu/efs/IntroDL/denoiser/dataset/starter_noisy/noisy/clnsp591_clatter_noise_166453__zabuhailo__metalworking-hammer-5_5_snr9_tl-27_fileid_105.wav']\n",
      "['/home/ubuntu/efs/IntroDL/denoiser/dataset/starter_clean/clean/clean_fileid_0.wav', '/home/ubuntu/efs/IntroDL/denoiser/dataset/starter_clean/clean/clean_fileid_101.wav', '/home/ubuntu/efs/IntroDL/denoiser/dataset/starter_clean/clean/clean_fileid_102.wav', '/home/ubuntu/efs/IntroDL/denoiser/dataset/starter_clean/clean/clean_fileid_104.wav', '/home/ubuntu/efs/IntroDL/denoiser/dataset/starter_clean/clean/clean_fileid_105.wav']\n"
     ]
    }
   ],
   "source": [
    "print(noisy_files[:5])\n",
    "print(clean_files[:5])"
   ]
  },
  {
   "cell_type": "code",
   "execution_count": 16,
   "metadata": {},
   "outputs": [
    {
     "name": "stdout",
     "output_type": "stream",
     "text": [
      "['/home/ubuntu/efs/IntroDL/denoiser/dataset/starter_noisy/noisy/clnsp644_barking_25887_0_snr5_tl-28_fileid_89.wav', '/home/ubuntu/efs/IntroDL/denoiser/dataset/starter_noisy/noisy/clnsp81_car_74675_2_snr18_tl-22_fileid_9.wav', '/home/ubuntu/efs/IntroDL/denoiser/dataset/starter_noisy/noisy/clnsp177_0kuIP7fLNpM_snr6_tl-26_fileid_90.wav', '/home/ubuntu/efs/IntroDL/denoiser/dataset/starter_noisy/noisy/clnsp383_babble_188218_15_snr6_tl-18_fileid_94.wav', '/home/ubuntu/efs/IntroDL/denoiser/dataset/starter_noisy/noisy/clnsp219_wind_344887_0_snr10_tl-28_fileid_96.wav']\n",
      "['/home/ubuntu/efs/IntroDL/denoiser/dataset/starter_clean/clean/clean_fileid_89.wav', '/home/ubuntu/efs/IntroDL/denoiser/dataset/starter_clean/clean/clean_fileid_9.wav', '/home/ubuntu/efs/IntroDL/denoiser/dataset/starter_clean/clean/clean_fileid_90.wav', '/home/ubuntu/efs/IntroDL/denoiser/dataset/starter_clean/clean/clean_fileid_94.wav', '/home/ubuntu/efs/IntroDL/denoiser/dataset/starter_clean/clean/clean_fileid_96.wav']\n"
     ]
    }
   ],
   "source": [
    "print(noisy_files[-5:])\n",
    "print(clean_files[-5:])"
   ]
  },
  {
   "cell_type": "markdown",
   "metadata": {},
   "source": [
    "We have just checked that the order of files in the list are matched for `clean_files` and `noisy_files`."
   ]
  },
  {
   "cell_type": "code",
   "execution_count": 17,
   "metadata": {},
   "outputs": [],
   "source": [
    "clean_wav, clean_sr = torchaudio.load(clean_files[0])\n",
    "noisy_wav, noisy_sr = torchaudio.load(noisy_files[0])"
   ]
  },
  {
   "cell_type": "code",
   "execution_count": 18,
   "metadata": {},
   "outputs": [
    {
     "data": {
      "text/plain": [
       "tensor([[ 0.0731,  0.0881,  0.1040,  ..., -0.0025, -0.0023, -0.0017]])"
      ]
     },
     "execution_count": 18,
     "metadata": {},
     "output_type": "execute_result"
    }
   ],
   "source": [
    "clean_wav"
   ]
  },
  {
   "cell_type": "code",
   "execution_count": 19,
   "metadata": {},
   "outputs": [
    {
     "data": {
      "text/plain": [
       "tensor([[0.0877, 0.1019, 0.1178,  ..., 0.0010, 0.0010, 0.0011]])"
      ]
     },
     "execution_count": 19,
     "metadata": {},
     "output_type": "execute_result"
    }
   ],
   "source": [
    "noisy_wav"
   ]
  },
  {
   "cell_type": "code",
   "execution_count": 20,
   "metadata": {},
   "outputs": [
    {
     "name": "stdout",
     "output_type": "stream",
     "text": [
      "16000\n",
      "16000\n"
     ]
    }
   ],
   "source": [
    "print(clean_sr)\n",
    "print(noisy_sr)"
   ]
  },
  {
   "cell_type": "code",
   "execution_count": 21,
   "metadata": {},
   "outputs": [
    {
     "data": {
      "text/plain": [
       "torch.Size([1, 160000])"
      ]
     },
     "execution_count": 21,
     "metadata": {},
     "output_type": "execute_result"
    }
   ],
   "source": [
    "clean_wav.shape"
   ]
  },
  {
   "cell_type": "markdown",
   "metadata": {},
   "source": [
    "Note that in the [example notebook](https://github.com/schmiph2/pysepm/blob/master/examples/examplesForCalculatingMeasures.ipynb) provided by the github repository of **pysepm**, the type and the shape of the input are given as numpy array and $(N,)$ where $N$ is equal to the product of `sample_rate` and `duration of audio file (in seconds)`"
   ]
  },
  {
   "cell_type": "code",
   "execution_count": 22,
   "metadata": {},
   "outputs": [],
   "source": [
    "clean_wav = clean_wav.numpy().reshape(-1)\n",
    "noisy_wav = noisy_wav.numpy().reshape(-1)"
   ]
  },
  {
   "cell_type": "code",
   "execution_count": 23,
   "metadata": {},
   "outputs": [
    {
     "name": "stdout",
     "output_type": "stream",
     "text": [
      "<class 'numpy.ndarray'>\n",
      "(160000,)\n"
     ]
    }
   ],
   "source": [
    "print(type(clean_wav))\n",
    "print(clean_wav.shape)"
   ]
  },
  {
   "cell_type": "markdown",
   "metadata": {},
   "source": [
    "Bring the file list of enhanced audio files in the same order as the clean and noisy files list."
   ]
  },
  {
   "cell_type": "code",
   "execution_count": 24,
   "metadata": {},
   "outputs": [],
   "source": [
    "RESULT_DIR = \"/home/ubuntu/efs/IntroDL/denoiser/results/Demucs_denoised\"\n",
    "\n",
    "enhanced_files = sorted(glob(RESULT_DIR + \"/*\"))\n",
    "enhanced_dict = {os.path.basename(name).split('_')[-1]:name for name in enhanced_files}\n",
    "\n"
   ]
  },
  {
   "cell_type": "code",
   "execution_count": 25,
   "metadata": {},
   "outputs": [],
   "source": [
    "enhanced_files = []\n",
    "for fileid in clean_dict.keys() : \n",
    "    enhanced_files.append(enhanced_dict[fileid])"
   ]
  },
  {
   "cell_type": "code",
   "execution_count": 26,
   "metadata": {},
   "outputs": [
    {
     "name": "stdout",
     "output_type": "stream",
     "text": [
      "['/home/ubuntu/efs/IntroDL/denoiser/dataset/starter_noisy/noisy/clnsp126_3Wjw0nadnM4_snr15_tl-22_fileid_0.wav', '/home/ubuntu/efs/IntroDL/denoiser/dataset/starter_noisy/noisy/clnsp198_bus_56903_0_snr0_tl-32_fileid_101.wav', '/home/ubuntu/efs/IntroDL/denoiser/dataset/starter_noisy/noisy/clnsp535_washer_460549_1_snr2_tl-35_fileid_102.wav', '/home/ubuntu/efs/IntroDL/denoiser/dataset/starter_noisy/noisy/clnsp228_vacuum_379760_1_snr1_tl-19_fileid_104.wav', '/home/ubuntu/efs/IntroDL/denoiser/dataset/starter_noisy/noisy/clnsp591_clatter_noise_166453__zabuhailo__metalworking-hammer-5_5_snr9_tl-27_fileid_105.wav']\n",
      "['/home/ubuntu/efs/IntroDL/denoiser/dataset/starter_clean/clean/clean_fileid_0.wav', '/home/ubuntu/efs/IntroDL/denoiser/dataset/starter_clean/clean/clean_fileid_101.wav', '/home/ubuntu/efs/IntroDL/denoiser/dataset/starter_clean/clean/clean_fileid_102.wav', '/home/ubuntu/efs/IntroDL/denoiser/dataset/starter_clean/clean/clean_fileid_104.wav', '/home/ubuntu/efs/IntroDL/denoiser/dataset/starter_clean/clean/clean_fileid_105.wav']\n",
      "['/home/ubuntu/efs/IntroDL/denoiser/results/Demucs_denoised/clnsp126_3Wjw0nadnM4_snr15_tl-22_fileid_0.wav', '/home/ubuntu/efs/IntroDL/denoiser/results/Demucs_denoised/clnsp198_bus_56903_0_snr0_tl-32_fileid_101.wav', '/home/ubuntu/efs/IntroDL/denoiser/results/Demucs_denoised/clnsp535_washer_460549_1_snr2_tl-35_fileid_102.wav', '/home/ubuntu/efs/IntroDL/denoiser/results/Demucs_denoised/clnsp228_vacuum_379760_1_snr1_tl-19_fileid_104.wav', '/home/ubuntu/efs/IntroDL/denoiser/results/Demucs_denoised/clnsp591_clatter_noise_166453__zabuhailo__metalworking-hammer-5_5_snr9_tl-27_fileid_105.wav']\n"
     ]
    }
   ],
   "source": [
    "print(noisy_files[:5])\n",
    "print(clean_files[:5])\n",
    "print(enhanced_files[:5])"
   ]
  },
  {
   "cell_type": "code",
   "execution_count": 27,
   "metadata": {},
   "outputs": [],
   "source": [
    "enhanced_wav, enhanced_sr = torchaudio.load(enhanced_files[0])"
   ]
  },
  {
   "cell_type": "code",
   "execution_count": 28,
   "metadata": {},
   "outputs": [
    {
     "data": {
      "text/plain": [
       "tensor([[ 0.0834,  0.0984,  0.1180,  ..., -0.0008, -0.0008, -0.0006]])"
      ]
     },
     "execution_count": 28,
     "metadata": {},
     "output_type": "execute_result"
    }
   ],
   "source": [
    "enhanced_wav"
   ]
  },
  {
   "cell_type": "code",
   "execution_count": 29,
   "metadata": {},
   "outputs": [
    {
     "data": {
      "text/plain": [
       "16000"
      ]
     },
     "execution_count": 29,
     "metadata": {},
     "output_type": "execute_result"
    }
   ],
   "source": [
    "enhanced_sr"
   ]
  },
  {
   "cell_type": "code",
   "execution_count": 30,
   "metadata": {},
   "outputs": [],
   "source": [
    "enhanced_wav = enhanced_wav.numpy().reshape(-1)\n"
   ]
  },
  {
   "cell_type": "markdown",
   "metadata": {},
   "source": [
    "# Calc Measures"
   ]
  },
  {
   "cell_type": "markdown",
   "metadata": {},
   "source": [
    "## STOI"
   ]
  },
  {
   "cell_type": "code",
   "execution_count": 31,
   "metadata": {},
   "outputs": [
    {
     "data": {
      "text/plain": [
       "0.9807254867015377"
      ]
     },
     "execution_count": 31,
     "metadata": {},
     "output_type": "execute_result"
    }
   ],
   "source": [
    "pysepm.stoi(clean_wav, noisy_wav, clean_sr)"
   ]
  },
  {
   "cell_type": "code",
   "execution_count": 32,
   "metadata": {},
   "outputs": [
    {
     "data": {
      "text/plain": [
       "0.9933100283139101"
      ]
     },
     "execution_count": 32,
     "metadata": {},
     "output_type": "execute_result"
    }
   ],
   "source": [
    "pysepm.stoi(clean_wav, enhanced_wav, clean_sr)"
   ]
  },
  {
   "cell_type": "markdown",
   "metadata": {},
   "source": [
    "Conjecture by Taeyoung\n",
    "\n",
    "STOI :  \n",
    "- somehow measures the correlation between two waveforms\n",
    "- the higher the better"
   ]
  },
  {
   "cell_type": "markdown",
   "metadata": {},
   "source": [
    "## PESQ"
   ]
  },
  {
   "cell_type": "code",
   "execution_count": 33,
   "metadata": {},
   "outputs": [
    {
     "data": {
      "text/plain": [
       "2.3495934009552"
      ]
     },
     "execution_count": 33,
     "metadata": {},
     "output_type": "execute_result"
    }
   ],
   "source": [
    "pysepm.pesq(clean_wav, noisy_wav, clean_sr)[1]"
   ]
  },
  {
   "cell_type": "code",
   "execution_count": 34,
   "metadata": {},
   "outputs": [
    {
     "data": {
      "text/plain": [
       "3.5990958213806152"
      ]
     },
     "execution_count": 34,
     "metadata": {},
     "output_type": "execute_result"
    }
   ],
   "source": [
    "pysepm.pesq(clean_wav, enhanced_wav, clean_sr)[1]"
   ]
  },
  {
   "cell_type": "markdown",
   "metadata": {},
   "source": [
    "Conjecture by Taeyoung\n",
    "\n",
    "PESQ :  \n",
    "- Subtract disturbance from $a_0 = 4.5$\n",
    "- Closer to 4.5 the better"
   ]
  },
  {
   "cell_type": "markdown",
   "metadata": {},
   "source": [
    "## fwSNRseg"
   ]
  },
  {
   "cell_type": "code",
   "execution_count": 35,
   "metadata": {},
   "outputs": [
    {
     "data": {
      "text/plain": [
       "20.69275673110846"
      ]
     },
     "execution_count": 35,
     "metadata": {},
     "output_type": "execute_result"
    }
   ],
   "source": [
    "pysepm.fwSNRseg(clean_wav, noisy_wav, clean_sr)"
   ]
  },
  {
   "cell_type": "code",
   "execution_count": 36,
   "metadata": {},
   "outputs": [
    {
     "data": {
      "text/plain": [
       "22.317664763495486"
      ]
     },
     "execution_count": 36,
     "metadata": {},
     "output_type": "execute_result"
    }
   ],
   "source": [
    "pysepm.fwSNRseg(clean_wav, enhanced_wav, clean_sr)"
   ]
  },
  {
   "cell_type": "markdown",
   "metadata": {},
   "source": [
    "Conjecture by Taeyoung\n",
    "\n",
    "Signal to noise ratio :  \n",
    "- first argument is clean, which is signal \n",
    "- the second argument is noisy, which is signal + noise.\n",
    "- Noise should be small, so high SNR is desired."
   ]
  },
  {
   "cell_type": "code",
   "execution_count": 37,
   "metadata": {},
   "outputs": [],
   "source": [
    "STOI_noisy = []\n",
    "STOI_enhanced = []\n",
    "PESQ_noisy = []\n",
    "PESQ_enhanced = []\n",
    "FWSNR_noisy = []\n",
    "FWSNR_enhanced = []\n",
    "\n",
    "for i in range(4, len(clean_files)) :\n",
    "    clean_wav, clean_sr = torchaudio.load(clean_files[i])\n",
    "    noisy_wav, noisy_sr = torchaudio.load(noisy_files[i])\n",
    "    enhanced_wav, enhanced_sr = torchaudio.load(enhanced_files[i])\n",
    "    \n",
    "    clean_wav = clean_wav.numpy().reshape(-1)\n",
    "    noisy_wav = noisy_wav.numpy().reshape(-1)\n",
    "    enhanced_wav = enhanced_wav.numpy().reshape(-1)\n",
    "\n",
    "    STOI_noisy.append(pysepm.stoi(clean_wav, noisy_wav, clean_sr))\n",
    "    STOI_enhanced.append(pysepm.stoi(clean_wav, enhanced_wav, clean_sr))\n",
    "\n",
    "    PESQ_noisy.append(pysepm.pesq(clean_wav, noisy_wav, clean_sr)[1])\n",
    "    PESQ_enhanced.append(pysepm.pesq(clean_wav, enhanced_wav, clean_sr)[1])\n",
    "\n",
    "    FWSNR_noisy.append(pysepm.fwSNRseg(clean_wav, noisy_wav, clean_sr))\n",
    "    FWSNR_enhanced.append(pysepm.fwSNRseg(clean_wav, enhanced_wav, clean_sr))\n",
    "\n",
    "\n"
   ]
  },
  {
   "cell_type": "code",
   "execution_count": 56,
   "metadata": {},
   "outputs": [],
   "source": [
    "import numpy as np"
   ]
  },
  {
   "cell_type": "code",
   "execution_count": 58,
   "metadata": {},
   "outputs": [
    {
     "name": "stdout",
     "output_type": "stream",
     "text": [
      "mean and stdev of STOI for noisy files are 0.9154 , 0.0651\n",
      "mean and stdev of STOI for enhanced files are 0.9650 , 0.0332\n",
      "mean and stdev of PESQ for noisy files are 1.5863 , 0.4547\n",
      "mean and stdev of PESQ for enhanced files are 2.6500 , 0.6314\n",
      "mean and stdev of fwSNRseg for noisy files are 12.6105 , 4.9824\n",
      "mean and stdev of fwSNRseg for enhanced files are 17.1134 , 3.7672\n"
     ]
    }
   ],
   "source": [
    "print(\"mean and stdev of STOI for noisy files are {:.4f} , {:.4f}\".format(np.mean(STOI_noisy),np.std(STOI_noisy)))\n",
    "print(\"mean and stdev of STOI for enhanced files are {:.4f} , {:.4f}\".format(np.mean(STOI_enhanced),np.std(STOI_enhanced)))\n",
    "print(\"mean and stdev of PESQ for noisy files are {:.4f} , {:.4f}\".format(np.mean(PESQ_noisy),np.std(PESQ_noisy)))\n",
    "print(\"mean and stdev of PESQ for enhanced files are {:.4f} , {:.4f}\".format(np.mean(PESQ_enhanced),np.std(PESQ_enhanced)))\n",
    "print(\"mean and stdev of fwSNRseg for noisy files are {:.4f} , {:.4f}\".format(np.mean(FWSNR_noisy),np.std(FWSNR_noisy)))\n",
    "print(\"mean and stdev of fwSNRseg for enhanced files are {:.4f} , {:.4f}\".format(np.mean(FWSNR_enhanced),np.std(FWSNR_enhanced)))\n"
   ]
  },
  {
   "cell_type": "markdown",
   "metadata": {},
   "source": [
    "## SNRseg"
   ]
  },
  {
   "cell_type": "code",
   "execution_count": 5,
   "metadata": {},
   "outputs": [
    {
     "data": {
      "text/plain": [
       "-0.21686174881958412"
      ]
     },
     "execution_count": 5,
     "metadata": {},
     "output_type": "execute_result"
    }
   ],
   "source": [
    "pysepm.SNRseg(clean_speech, noisy_speech, fs)"
   ]
  },
  {
   "cell_type": "code",
   "execution_count": 6,
   "metadata": {},
   "outputs": [
    {
     "data": {
      "text/plain": [
       "-1.2033705198493232"
      ]
     },
     "execution_count": 6,
     "metadata": {},
     "output_type": "execute_result"
    }
   ],
   "source": [
    "pysepm.SNRseg(clean_speech, enhanced_speech, fs)"
   ]
  },
  {
   "cell_type": "markdown",
   "metadata": {},
   "source": [
    "## LLR"
   ]
  },
  {
   "cell_type": "code",
   "execution_count": 7,
   "metadata": {},
   "outputs": [
    {
     "data": {
      "text/plain": [
       "1.2530765533868626"
      ]
     },
     "execution_count": 7,
     "metadata": {},
     "output_type": "execute_result"
    }
   ],
   "source": [
    "pysepm.llr(clean_speech, noisy_speech, fs)"
   ]
  },
  {
   "cell_type": "code",
   "execution_count": 8,
   "metadata": {},
   "outputs": [
    {
     "data": {
      "text/plain": [
       "1.6044180854910925"
      ]
     },
     "execution_count": 8,
     "metadata": {},
     "output_type": "execute_result"
    }
   ],
   "source": [
    "pysepm.llr(clean_speech, enhanced_speech, fs)"
   ]
  },
  {
   "cell_type": "markdown",
   "metadata": {},
   "source": [
    "## WSS"
   ]
  },
  {
   "cell_type": "code",
   "execution_count": 9,
   "metadata": {},
   "outputs": [
    {
     "data": {
      "text/plain": [
       "44.69861369131994"
      ]
     },
     "execution_count": 9,
     "metadata": {},
     "output_type": "execute_result"
    }
   ],
   "source": [
    "pysepm.wss(clean_speech, noisy_speech, fs)"
   ]
  },
  {
   "cell_type": "code",
   "execution_count": 10,
   "metadata": {},
   "outputs": [
    {
     "data": {
      "text/plain": [
       "66.79548150633117"
      ]
     },
     "execution_count": 10,
     "metadata": {},
     "output_type": "execute_result"
    }
   ],
   "source": [
    "pysepm.wss(clean_speech, enhanced_speech, fs)"
   ]
  },
  {
   "cell_type": "markdown",
   "metadata": {},
   "source": [
    "## Cepstrum Distance (CD)"
   ]
  },
  {
   "cell_type": "code",
   "execution_count": 11,
   "metadata": {},
   "outputs": [
    {
     "data": {
      "text/plain": [
       "7.187803223674154"
      ]
     },
     "execution_count": 11,
     "metadata": {},
     "output_type": "execute_result"
    }
   ],
   "source": [
    "pysepm.cepstrum_distance(clean_speech, noisy_speech, fs)"
   ]
  },
  {
   "cell_type": "code",
   "execution_count": 12,
   "metadata": {},
   "outputs": [
    {
     "data": {
      "text/plain": [
       "8.308018500622689"
      ]
     },
     "execution_count": 12,
     "metadata": {},
     "output_type": "execute_result"
    }
   ],
   "source": [
    "pysepm.cepstrum_distance(clean_speech, enhanced_speech, fs)"
   ]
  },
  {
   "cell_type": "markdown",
   "metadata": {},
   "source": [
    "## CSII"
   ]
  },
  {
   "cell_type": "code",
   "execution_count": 15,
   "metadata": {},
   "outputs": [
    {
     "data": {
      "text/plain": [
       "(0.7336988398405825, 0.4363089356143529, 0.018848854017316796)"
      ]
     },
     "execution_count": 15,
     "metadata": {},
     "output_type": "execute_result"
    }
   ],
   "source": [
    "pysepm.csii(clean_speech, noisy_speech, fs)"
   ]
  },
  {
   "cell_type": "code",
   "execution_count": 16,
   "metadata": {},
   "outputs": [
    {
     "data": {
      "text/plain": [
       "(0.527623436040412, 0.2437425452887004, 0.010118033728508934)"
      ]
     },
     "execution_count": 16,
     "metadata": {},
     "output_type": "execute_result"
    }
   ],
   "source": [
    "pysepm.csii(clean_speech, enhanced_speech, fs)"
   ]
  },
  {
   "cell_type": "markdown",
   "metadata": {},
   "source": [
    "## Composite"
   ]
  },
  {
   "cell_type": "code",
   "execution_count": 19,
   "metadata": {},
   "outputs": [
    {
     "data": {
      "text/plain": [
       "(2.037992006581127, 1.8630831647556954, 1.5433156477547219)"
      ]
     },
     "execution_count": 19,
     "metadata": {},
     "output_type": "execute_result"
    }
   ],
   "source": [
    "pysepm.composite(clean_speech, noisy_speech, fs)"
   ]
  },
  {
   "cell_type": "code",
   "execution_count": 20,
   "metadata": {},
   "outputs": [
    {
     "data": {
      "text/plain": [
       "(1.0, 1.5970461451303148, 1.0)"
      ]
     },
     "execution_count": 20,
     "metadata": {},
     "output_type": "execute_result"
    }
   ],
   "source": [
    "pysepm.composite(clean_speech, enhanced_speech, fs)"
   ]
  },
  {
   "cell_type": "markdown",
   "metadata": {},
   "source": [
    "## NCM"
   ]
  },
  {
   "cell_type": "code",
   "execution_count": 21,
   "metadata": {},
   "outputs": [],
   "source": [
    "pysepm.ncm(clean_speech, noisy_speech, fs)"
   ]
  },
  {
   "cell_type": "code",
   "execution_count": 22,
   "metadata": {},
   "outputs": [],
   "source": [
    "pysepm.ncm(clean_speech, enhanced_speech, fs)"
   ]
  },
  {
   "cell_type": "markdown",
   "metadata": {},
   "source": [
    "# SRMR"
   ]
  },
  {
   "cell_type": "code",
   "execution_count": 23,
   "metadata": {},
   "outputs": [
    {
     "name": "stderr",
     "output_type": "stream",
     "text": [
      "/usr/local/lib/python3.6/dist-packages/srmrpy/hilbert.py:69: FutureWarning: Using a non-tuple sequence for multidimensional indexing is deprecated; use `arr[tuple(seq)]` instead of `arr[seq]`. In the future this will be interpreted as an array index, `arr[np.array(seq)]`, which will result either in an error or a different result.\n",
      "  h = h[ind]\n"
     ]
    },
    {
     "data": {
      "text/plain": [
       "3.2050299299144114"
      ]
     },
     "execution_count": 23,
     "metadata": {},
     "output_type": "execute_result"
    }
   ],
   "source": [
    "pysepm.srmr(noisy_speech, fs)"
   ]
  },
  {
   "cell_type": "code",
   "execution_count": 24,
   "metadata": {},
   "outputs": [
    {
     "data": {
      "text/plain": [
       "7.317370449764798"
      ]
     },
     "execution_count": 24,
     "metadata": {},
     "output_type": "execute_result"
    }
   ],
   "source": [
    "pysepm.srmr(enhanced_speech, fs)"
   ]
  },
  {
   "cell_type": "markdown",
   "metadata": {},
   "source": [
    "# BSD"
   ]
  },
  {
   "cell_type": "code",
   "execution_count": 10,
   "metadata": {},
   "outputs": [
    {
     "name": "stdout",
     "output_type": "stream",
     "text": [
      "include pre-emphasis\n"
     ]
    },
    {
     "data": {
      "text/plain": [
       "38086949616.83964"
      ]
     },
     "execution_count": 10,
     "metadata": {},
     "output_type": "execute_result"
    }
   ],
   "source": [
    "pysepm.bsd(clean_speech, noisy_speech, fs)"
   ]
  },
  {
   "cell_type": "code",
   "execution_count": 11,
   "metadata": {},
   "outputs": [
    {
     "name": "stdout",
     "output_type": "stream",
     "text": [
      "include pre-emphasis\n"
     ]
    },
    {
     "data": {
      "text/plain": [
       "51047508.139671564"
      ]
     },
     "execution_count": 11,
     "metadata": {},
     "output_type": "execute_result"
    }
   ],
   "source": [
    "pysepm.bsd(clean_speech, enhanced_speech, fs)"
   ]
  },
  {
   "cell_type": "markdown",
   "metadata": {},
   "source": [
    "# Measure Execution Times"
   ]
  },
  {
   "cell_type": "code",
   "execution_count": 25,
   "metadata": {},
   "outputs": [
    {
     "name": "stdout",
     "output_type": "stream",
     "text": [
      "61.1 ms ± 667 µs per loop (mean ± std. dev. of 7 runs, 10 loops each)\n"
     ]
    }
   ],
   "source": [
    "%timeit pysepm.fwSNRseg(clean_speech, noisy_speech, fs)"
   ]
  },
  {
   "cell_type": "code",
   "execution_count": 26,
   "metadata": {},
   "outputs": [
    {
     "name": "stdout",
     "output_type": "stream",
     "text": [
      "14.5 ms ± 11.5 µs per loop (mean ± std. dev. of 7 runs, 100 loops each)\n"
     ]
    }
   ],
   "source": [
    "%timeit pysepm.SNRseg(clean_speech, noisy_speech, fs)"
   ]
  },
  {
   "cell_type": "code",
   "execution_count": 27,
   "metadata": {},
   "outputs": [
    {
     "name": "stdout",
     "output_type": "stream",
     "text": [
      "113 ms ± 188 µs per loop (mean ± std. dev. of 7 runs, 10 loops each)\n"
     ]
    }
   ],
   "source": [
    "%timeit pysepm.llr(clean_speech, noisy_speech, fs)"
   ]
  },
  {
   "cell_type": "code",
   "execution_count": 28,
   "metadata": {},
   "outputs": [
    {
     "name": "stdout",
     "output_type": "stream",
     "text": [
      "80 ms ± 552 µs per loop (mean ± std. dev. of 7 runs, 10 loops each)\n"
     ]
    }
   ],
   "source": [
    "%timeit pysepm.wss(clean_speech, noisy_speech, fs)"
   ]
  },
  {
   "cell_type": "code",
   "execution_count": 29,
   "metadata": {},
   "outputs": [
    {
     "name": "stdout",
     "output_type": "stream",
     "text": [
      "92.5 ms ± 391 µs per loop (mean ± std. dev. of 7 runs, 10 loops each)\n"
     ]
    }
   ],
   "source": [
    "%timeit pysepm.cepstrum_distance(clean_speech, noisy_speech, fs)"
   ]
  },
  {
   "cell_type": "code",
   "execution_count": 30,
   "metadata": {},
   "outputs": [
    {
     "name": "stdout",
     "output_type": "stream",
     "text": [
      "143 ms ± 381 µs per loop (mean ± std. dev. of 7 runs, 10 loops each)\n"
     ]
    }
   ],
   "source": [
    "%timeit pysepm.stoi(clean_speech, noisy_speech, fs)"
   ]
  },
  {
   "cell_type": "code",
   "execution_count": 31,
   "metadata": {},
   "outputs": [
    {
     "name": "stdout",
     "output_type": "stream",
     "text": [
      "82.7 ms ± 450 µs per loop (mean ± std. dev. of 7 runs, 10 loops each)\n"
     ]
    }
   ],
   "source": [
    "%timeit pysepm.csii(clean_speech, noisy_speech, fs)"
   ]
  },
  {
   "cell_type": "code",
   "execution_count": 32,
   "metadata": {},
   "outputs": [
    {
     "name": "stdout",
     "output_type": "stream",
     "text": [
      "309 ms ± 510 µs per loop (mean ± std. dev. of 7 runs, 1 loop each)\n"
     ]
    }
   ],
   "source": [
    "%timeit pysepm.pesq(clean_speech, noisy_speech, fs)"
   ]
  },
  {
   "cell_type": "code",
   "execution_count": 33,
   "metadata": {},
   "outputs": [
    {
     "name": "stdout",
     "output_type": "stream",
     "text": [
      "521 ms ± 1.27 ms per loop (mean ± std. dev. of 7 runs, 1 loop each)\n"
     ]
    }
   ],
   "source": [
    "%timeit pysepm.composite(clean_speech, noisy_speech, fs)"
   ]
  },
  {
   "cell_type": "code",
   "execution_count": 34,
   "metadata": {},
   "outputs": [
    {
     "name": "stdout",
     "output_type": "stream",
     "text": [
      "5.13 s ± 13.7 ms per loop (mean ± std. dev. of 7 runs, 1 loop each)\n"
     ]
    }
   ],
   "source": [
    "%timeit pysepm.ncm(clean_speech, noisy_speech, fs)"
   ]
  },
  {
   "cell_type": "code",
   "execution_count": 35,
   "metadata": {},
   "outputs": [
    {
     "name": "stderr",
     "output_type": "stream",
     "text": [
      "/usr/local/lib/python3.6/dist-packages/srmrpy/hilbert.py:69: FutureWarning: Using a non-tuple sequence for multidimensional indexing is deprecated; use `arr[tuple(seq)]` instead of `arr[seq]`. In the future this will be interpreted as an array index, `arr[np.array(seq)]`, which will result either in an error or a different result.\n",
      "  h = h[ind]\n"
     ]
    },
    {
     "name": "stdout",
     "output_type": "stream",
     "text": [
      "1.6 s ± 660 µs per loop (mean ± std. dev. of 7 runs, 1 loop each)\n"
     ]
    }
   ],
   "source": [
    "%timeit pysepm.srmr(clean_speech, fs)"
   ]
  },
  {
   "cell_type": "code",
   "execution_count": 29,
   "metadata": {},
   "outputs": [
    {
     "name": "stdout",
     "output_type": "stream",
     "text": [
      "include pre-emphasis\n",
      "bark filter not tested\n",
      "include pre-emphasis\n",
      "bark filter not tested\n",
      "include pre-emphasis\n",
      "bark filter not tested\n",
      "include pre-emphasis\n",
      "bark filter not tested\n",
      "include pre-emphasis\n",
      "bark filter not tested\n",
      "include pre-emphasis\n",
      "bark filter not tested\n",
      "include pre-emphasis\n",
      "bark filter not tested\n",
      "include pre-emphasis\n",
      "bark filter not tested\n",
      "include pre-emphasis\n",
      "bark filter not tested\n",
      "include pre-emphasis\n",
      "bark filter not tested\n",
      "include pre-emphasis\n",
      "bark filter not tested\n",
      "include pre-emphasis\n",
      "bark filter not tested\n",
      "include pre-emphasis\n",
      "bark filter not tested\n",
      "include pre-emphasis\n",
      "bark filter not tested\n",
      "include pre-emphasis\n",
      "bark filter not tested\n",
      "include pre-emphasis\n",
      "bark filter not tested\n",
      "include pre-emphasis\n",
      "bark filter not tested\n",
      "include pre-emphasis\n",
      "bark filter not tested\n",
      "include pre-emphasis\n",
      "bark filter not tested\n",
      "include pre-emphasis\n",
      "bark filter not tested\n",
      "include pre-emphasis\n",
      "bark filter not tested\n",
      "include pre-emphasis\n",
      "bark filter not tested\n",
      "include pre-emphasis\n",
      "bark filter not tested\n",
      "include pre-emphasis\n",
      "bark filter not tested\n",
      "include pre-emphasis\n",
      "bark filter not tested\n",
      "include pre-emphasis\n",
      "bark filter not tested\n",
      "include pre-emphasis\n",
      "bark filter not tested\n",
      "include pre-emphasis\n",
      "bark filter not tested\n",
      "include pre-emphasis\n",
      "bark filter not tested\n",
      "include pre-emphasis\n",
      "bark filter not tested\n",
      "include pre-emphasis\n",
      "bark filter not tested\n",
      "include pre-emphasis\n",
      "bark filter not tested\n",
      "include pre-emphasis\n",
      "bark filter not tested\n",
      "include pre-emphasis\n",
      "bark filter not tested\n",
      "include pre-emphasis\n",
      "bark filter not tested\n",
      "include pre-emphasis\n",
      "bark filter not tested\n",
      "include pre-emphasis\n",
      "bark filter not tested\n",
      "include pre-emphasis\n",
      "bark filter not tested\n",
      "include pre-emphasis\n",
      "bark filter not tested\n",
      "include pre-emphasis\n",
      "bark filter not tested\n",
      "include pre-emphasis\n",
      "bark filter not tested\n",
      "include pre-emphasis\n",
      "bark filter not tested\n",
      "include pre-emphasis\n",
      "bark filter not tested\n",
      "include pre-emphasis\n",
      "bark filter not tested\n",
      "include pre-emphasis\n",
      "bark filter not tested\n",
      "include pre-emphasis\n",
      "bark filter not tested\n",
      "include pre-emphasis\n",
      "bark filter not tested\n",
      "include pre-emphasis\n",
      "bark filter not tested\n",
      "include pre-emphasis\n",
      "bark filter not tested\n",
      "include pre-emphasis\n",
      "bark filter not tested\n",
      "include pre-emphasis\n",
      "bark filter not tested\n",
      "include pre-emphasis\n",
      "bark filter not tested\n",
      "include pre-emphasis\n",
      "bark filter not tested\n",
      "include pre-emphasis\n",
      "bark filter not tested\n",
      "include pre-emphasis\n",
      "bark filter not tested\n",
      "include pre-emphasis\n",
      "bark filter not tested\n",
      "include pre-emphasis\n",
      "bark filter not tested\n",
      "include pre-emphasis\n",
      "bark filter not tested\n",
      "include pre-emphasis\n",
      "bark filter not tested\n",
      "include pre-emphasis\n",
      "bark filter not tested\n",
      "include pre-emphasis\n",
      "bark filter not tested\n",
      "include pre-emphasis\n",
      "bark filter not tested\n",
      "include pre-emphasis\n",
      "bark filter not tested\n",
      "include pre-emphasis\n",
      "bark filter not tested\n",
      "include pre-emphasis\n",
      "bark filter not tested\n",
      "include pre-emphasis\n",
      "bark filter not tested\n",
      "include pre-emphasis\n",
      "bark filter not tested\n",
      "include pre-emphasis\n",
      "bark filter not tested\n",
      "include pre-emphasis\n",
      "bark filter not tested\n",
      "include pre-emphasis\n",
      "bark filter not tested\n",
      "include pre-emphasis\n",
      "bark filter not tested\n",
      "include pre-emphasis\n",
      "bark filter not tested\n",
      "include pre-emphasis\n",
      "bark filter not tested\n",
      "include pre-emphasis\n",
      "bark filter not tested\n",
      "include pre-emphasis\n",
      "bark filter not tested\n",
      "include pre-emphasis\n",
      "bark filter not tested\n",
      "include pre-emphasis\n",
      "bark filter not tested\n",
      "include pre-emphasis\n",
      "bark filter not tested\n",
      "include pre-emphasis\n",
      "bark filter not tested\n",
      "include pre-emphasis\n",
      "bark filter not tested\n",
      "include pre-emphasis\n",
      "bark filter not tested\n",
      "37.9 ms ± 319 µs per loop (mean ± std. dev. of 7 runs, 10 loops each)\n"
     ]
    }
   ],
   "source": [
    "%timeit pysepm.bsd(clean_speech, noisy_speech, fs)"
   ]
  },
  {
   "cell_type": "code",
   "execution_count": null,
   "metadata": {},
   "outputs": [],
   "source": []
  }
 ],
 "metadata": {
  "kernelspec": {
   "display_name": "Python 3.8.13 (conda)",
   "language": "python",
   "name": "python3"
  },
  "language_info": {
   "codemirror_mode": {
    "name": "ipython",
    "version": 3
   },
   "file_extension": ".py",
   "mimetype": "text/x-python",
   "name": "python",
   "nbconvert_exporter": "python",
   "pygments_lexer": "ipython3",
   "version": "3.8.13"
  },
  "vscode": {
   "interpreter": {
    "hash": "4240ea2ad2b14635208500249ce08af07aea6fb327ada44767c5d03b07724d82"
   }
  }
 },
 "nbformat": 4,
 "nbformat_minor": 4
}
